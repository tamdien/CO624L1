{
 "cells": [
  {
   "cell_type": "markdown",
   "id": "a20f121d",
   "metadata": {},
   "source": [
    "# Dictionnary\n",
    "\n",
    "Dictionnary là một dạng list đặc biệt, nó khác list ở chỗ không lưu trữ các giá trị theo chỉ số vị trí, thay vào đó Dictionary sẽ lưu trữ các giá trị theo key\n",
    "\n",
    "##### Tài liệu tham khảo: https://www.w3schools.com/python/python_dictionaries.asp\n",
    "\n",
    "### Khai báo một dictionary\n",
    "\n",
    "Cú pháp:\n",
    "\n",
    "`<tên dictionary> = {}`\n",
    "\n",
    "### Dictionary được khai báo bằng hai dấu hoặc nhọn\n",
    "\n",
    "Đây là một dictionary rỗng\n",
    "\n",
    "<b>Ví dụ 1:</b>\n",
    "\n",
    "`a = {}`\n",
    "\n",
    "a là một dictionary rỗng\n",
    "\n",
    "<b>Ví dụ 2:</b>\n",
    "\n",
    "`a = {\"tên\": \"Nguyễn Tâm Điền\", \"tuổi\": 13, \"giới tính\": \"Nam\"}`\n",
    "\n",
    "b là một dictionary có 3 key, mõi key đều có một giá trị riêng biệt\n",
    "\n",
    "Key có thể mang kiểu dữ liệu là chuỗi hoặc số\n",
    "\n",
    "##### Mỗi một key đều phải có giá trị của riêng nó, không thể khai báo key không có giá trị\n",
    "\n",
    "<b>Hãy khai báo một dictionary có 3 phần tử</b>"
   ]
  },
  {
   "cell_type": "code",
   "execution_count": 3,
   "id": "d835f461",
   "metadata": {},
   "outputs": [
    {
     "name": "stdout",
     "output_type": "stream",
     "text": [
      "3\n"
     ]
    }
   ],
   "source": [
    "# L = [1,2,3]\n",
    "\n",
    "D = {\"a\":1,\"b\":2,\"c\":3}\n",
    "print(D[\"c\"])"
   ]
  },
  {
   "cell_type": "code",
   "execution_count": null,
   "id": "af7b4ab6-741b-44c2-ac69-1c07195a305d",
   "metadata": {},
   "outputs": [],
   "source": [
    "D_a = {\"tên\": \"Nguyễn Tâm Điền\", \"tuổi\": 13, \"giới tính\": \"Nam\"}"
   ]
  },
  {
   "cell_type": "code",
   "execution_count": 4,
   "id": "ec6a9e9e-8021-4a23-b350-14acac39a092",
   "metadata": {},
   "outputs": [
    {
     "name": "stdout",
     "output_type": "stream",
     "text": [
      "hello\n"
     ]
    }
   ],
   "source": [
    "D_a = {\"chào\":\"hi\",\"cảm ơn\":\"thank you\",\"chào\":\"hello\"}\n",
    "print(D_a[\"chào\"])"
   ]
  },
  {
   "cell_type": "code",
   "execution_count": 5,
   "id": "14ad17bb-0a38-492d-9cbf-bcd6bb12e86d",
   "metadata": {},
   "outputs": [
    {
     "name": "stdout",
     "output_type": "stream",
     "text": [
      "{'chào': 'hello', 'cảm ơn': 'thank you'}\n"
     ]
    }
   ],
   "source": [
    "D_a = {\"chào\":\"hi\",\"cảm ơn\":\"thank you\",\"chào\":\"hello\"}\n",
    "\n",
    "print(D_a)"
   ]
  },
  {
   "cell_type": "code",
   "execution_count": 6,
   "id": "95e0b56e-35d2-417a-b33a-0636348ea029",
   "metadata": {},
   "outputs": [
    {
     "name": "stdout",
     "output_type": "stream",
     "text": [
      "2\n"
     ]
    }
   ],
   "source": [
    "D_a = {\"chào\":\"hi\",\"cảm ơn\":\"thank you\",\"chào\":\"hello\"}\n",
    "\n",
    "print(len(D_a))"
   ]
  },
  {
   "cell_type": "code",
   "execution_count": 8,
   "id": "75111712-165f-4f57-a0e3-e4620759d120",
   "metadata": {},
   "outputs": [
    {
     "name": "stdout",
     "output_type": "stream",
     "text": [
      "{'hi': 'chào', 'thank you': 'cảm ơn', 'hello': 'chào'}\n"
     ]
    }
   ],
   "source": [
    "D_a = {\"hi\":\"chào\",\"thank you\":\"cảm ơn\",\"hello\":\"chào\"}\n",
    "\n",
    "print(D_a)"
   ]
  },
  {
   "cell_type": "markdown",
   "id": "be1e321c",
   "metadata": {},
   "source": [
    "### Thêm key vào dictionary\n",
    "\n",
    "Cú pháp:\n",
    "\n",
    "`<tên dictionary>[<key>] = <giá trị>`\n",
    "\n",
    "<b>Ví dụ 1:</b>\n",
    "\n",
    "```\n",
    "a = {}\n",
    "a[\"tên\"] = \"NTD\"\n",
    "```\n",
    "\n",
    "a là một dictionary có một phần tử, phần tử đó có key là \"tên\" và giá trị của key đó là \"NTD\"\n",
    "\n",
    "##### Lưu ý, nếu trong trường hợp đã tồn tại key trong dictionary, dùng lệnh trên sẽ thay đổi giá trị key đó (không phải thêm key khác vào)\n",
    "\n",
    "<b>Ví dụ 2:</b>\n",
    "\n",
    "```\n",
    "a = {}\n",
    "a[\"tên\"] = \"NTD\"\n",
    "a[\"tên\"] = \"Nguyễn Tâm Điền\"\n",
    "```\n",
    "\n",
    "a vẫn là một dictionary có một phần tử, phần tử đó có key là \"tên\" và giá trị của key đó là \"Nguyễn Tâm Điền\"\n",
    "\n",
    "<b>Hãy khai báo một dictionary không có phần tử nào, sau đó thêm một phần tử vào dictionary đó</b>"
   ]
  },
  {
   "cell_type": "code",
   "execution_count": 9,
   "id": "7573ebef",
   "metadata": {},
   "outputs": [
    {
     "name": "stdout",
     "output_type": "stream",
     "text": [
      "[1, 2, 3, 4]\n"
     ]
    }
   ],
   "source": [
    "L = [1,2,3]\n",
    "L.append(4)\n",
    "\n",
    "print(L)"
   ]
  },
  {
   "cell_type": "code",
   "execution_count": 11,
   "id": "2b91c563-ef37-4659-9b37-d2fdbbb730cc",
   "metadata": {},
   "outputs": [
    {
     "name": "stdout",
     "output_type": "stream",
     "text": [
      "{'a': 5, 'b': 2, 'c': 3, 'd': 4}\n"
     ]
    }
   ],
   "source": [
    "D = {\"a\":1,\"b\":2,\"c\":3}\n",
    "D[\"d\"] = 4\n",
    "D[\"a\"] = 5\n",
    "\n",
    "print(D)"
   ]
  },
  {
   "cell_type": "code",
   "execution_count": 17,
   "id": "73daf5f2-9a1a-4e1b-a465-a7ccf4a5eda7",
   "metadata": {},
   "outputs": [
    {
     "name": "stdout",
     "output_type": "stream",
     "text": [
      "abc không phải là một key của D\n"
     ]
    }
   ],
   "source": [
    "D = {\"a\":1,\"b\":2,\"c\":3,\"d\":\"abc\"}\n",
    "b = \"abc\"\n",
    "\n",
    "if b in D:\n",
    "    print(b,\"là một key của D\")\n",
    "else:\n",
    "    print(b,\"không phải là một key của D\")"
   ]
  },
  {
   "cell_type": "code",
   "execution_count": 18,
   "id": "d352f465-cd87-456d-96a3-c4e33929cefb",
   "metadata": {},
   "outputs": [
    {
     "name": "stdin",
     "output_type": "stream",
     "text": [
      "Nhập vào key: xin chào\n",
      "Nhập vào giá trị: hello\n",
      "Nhập vào key: friend\n",
      "Nhập vào giá trị: bạn\n",
      "Nhập vào key: thanks\n",
      "Nhập vào giá trị: cảm ơn\n",
      "Nhập vào key: xin chào\n"
     ]
    },
    {
     "name": "stdout",
     "output_type": "stream",
     "text": [
      "{'xin chào': 'hello', 'friend': 'bạn', 'thanks': 'cảm ơn'}\n"
     ]
    }
   ],
   "source": [
    "# cho một dictionary D rỗng\n",
    "# B1: nhập vào key\n",
    "#    -- nếu key chưa có trong dict D thì yêu cầu nhập vào giá trị của key đó, lưu vào trong D rồi quay lại B1\n",
    "#    -- nếu key đã có trong dict D thì tiếp tục sang B2\n",
    "# B2: In dictionary và kết thúc chương trình\n",
    "D = {}\n",
    "\n",
    "key = input(\"Nhập vào key:\")\n",
    "while key not in D: # key không có trong D (điều kiện lặp)\n",
    "    value = input(\"Nhập vào giá trị:\")\n",
    "    D[key] = value\n",
    "    key = input(\"Nhập vào key:\")\n",
    "\n",
    "print(D)"
   ]
  },
  {
   "cell_type": "markdown",
   "id": "65c98825",
   "metadata": {},
   "source": [
    "### Truy xuất phần tử trong dictionary\n",
    "\n",
    "Cú pháp:\n",
    "\n",
    "`<tên dictionary>[<key>]`\n",
    "\n",
    "<b>Ví dụ:</b>\n",
    "\n",
    "`a = {\"tên\": \"Nguyễn Tâm Điền\", \"tuổi\": 13, \"giới tính\": \"Nam\"}\n",
    "print(a[\"tên\"])`\n",
    "\n",
    "Màn hình sẽ in: Nguyễn Tâm Điền\n",
    "\n",
    "<b>Hãy khai báo một dictionary rồi in ra màn hình một phần tử bất kỳ trong dictionary đó</b>"
   ]
  },
  {
   "cell_type": "code",
   "execution_count": null,
   "id": "f6159385",
   "metadata": {},
   "outputs": [],
   "source": []
  },
  {
   "cell_type": "markdown",
   "id": "afa92f87",
   "metadata": {},
   "source": [
    "### Sao chép dictionary\n",
    "\n",
    "##### Việc sao chép dictionary được thực hiện hệt như sao chép list, chúng ta cần phải sử dụng lệnh copy()"
   ]
  },
  {
   "cell_type": "markdown",
   "id": "ef7e800d",
   "metadata": {},
   "source": [
    "### Duyệt dictionary bằng lệnh for\n",
    "\n",
    "Cú pháp:\n",
    "\n",
    "`for <tên biến> in <tên dictionary>:`\n",
    "\n",
    "Biến sẽ có giá trị là từng key trong dictionary\n",
    "\n",
    "<b>Ví dụ:</b>\n",
    "\n",
    "`a = {\"tên\": \"Nguyễn Tâm Điền\", \"tuổi\": 13, \"giới tính\": \"Nam\"}\n",
    "for i in a:\n",
    "    print(i)`\n",
    "    \n",
    "Màn hình sẽ in ra:\n",
    "\n",
    "tên\n",
    "\n",
    "tuổi\n",
    "\n",
    "giới tính\n",
    "\n",
    "<b>Hãy khai báo một dictionary rồi in ra màn hình toàn bộ giá trị trong dictionary đó</b>"
   ]
  },
  {
   "cell_type": "code",
   "execution_count": 20,
   "id": "3bdd1508",
   "metadata": {},
   "outputs": [
    {
     "name": "stdout",
     "output_type": "stream",
     "text": [
      "0 1\n",
      "1 2\n",
      "2 3\n"
     ]
    }
   ],
   "source": [
    "L = [1,2,3]\n",
    "\n",
    "for i in range(len(L)):\n",
    "    print(i,L[i])"
   ]
  },
  {
   "cell_type": "code",
   "execution_count": 21,
   "id": "36a5ad8b-e96b-4c54-a405-eba40ca3d47a",
   "metadata": {},
   "outputs": [
    {
     "name": "stdout",
     "output_type": "stream",
     "text": [
      "1\n",
      "2\n",
      "3\n"
     ]
    }
   ],
   "source": [
    "L = [1,2,3]\n",
    "\n",
    "for i in L:\n",
    "    print(i)"
   ]
  },
  {
   "cell_type": "code",
   "execution_count": 23,
   "id": "242d042e-b73a-4b35-b06e-77145214d427",
   "metadata": {},
   "outputs": [
    {
     "name": "stdout",
     "output_type": "stream",
     "text": [
      "a 1\n",
      "b 2\n",
      "c 3\n"
     ]
    }
   ],
   "source": [
    "D = {\"a\":1,\"b\":2,\"c\":3}\n",
    "\n",
    "for k in D:\n",
    "    print(k,D[k])"
   ]
  },
  {
   "cell_type": "code",
   "execution_count": 24,
   "id": "aa01973f-3411-421f-9327-763121e90426",
   "metadata": {},
   "outputs": [
    {
     "name": "stdout",
     "output_type": "stream",
     "text": [
      "{'b': 2, 'c': 3}\n"
     ]
    }
   ],
   "source": [
    "D = {\"a\":1,\"b\":2,\"c\":3}\n",
    "\n",
    "D.pop(\"a\")\n",
    "\n",
    "print(D)"
   ]
  },
  {
   "cell_type": "markdown",
   "id": "1982f4b1",
   "metadata": {},
   "source": [
    "### Bài tập"
   ]
  },
  {
   "cell_type": "markdown",
   "id": "3060a950",
   "metadata": {},
   "source": [
    "Viết chương trình đếm số lần xuất hiện của một từ trong một văn bản nhất định"
   ]
  },
  {
   "cell_type": "code",
   "execution_count": null,
   "id": "af64832c",
   "metadata": {},
   "outputs": [],
   "source": [
    "van_ban = \"xin chào các bạn, xin chào mọi người\"\n",
    "\n",
    "D = {\"xin\":2,\"chào\":2,\"các\":1,\"bạn\":1,\"mọi\":1,\"người\":1}"
   ]
  },
  {
   "cell_type": "code",
   "execution_count": 33,
   "id": "1a7b3295-0d14-4e3a-9e13-87cadf2fddd9",
   "metadata": {},
   "outputs": [
    {
     "name": "stdout",
     "output_type": "stream",
     "text": [
      "{'hằng': 1, 'năm': 3, 'cứ': 2, 'vào': 8, 'cuối': 1, 'thu': 2, 'lá': 1, 'ngoài': 2, 'đường': 5, 'rụng': 1, 'nhiều': 3, 'và': 18, 'trên': 11, 'không': 16, 'có': 11, 'những': 10, 'đám': 2, 'mây': 2, 'bàng': 1, 'bạc': 1, 'lòng': 10, 'tôi': 78, 'lại': 13, 'nao': 1, 'nức': 2, 'kỷ': 2, 'niệm': 2, 'hoang': 1, 'mang': 1, 'của': 6, 'buổi': 4, 'tựu': 1, 'trường': 10, 'thể': 1, 'nào': 6, 'quên': 2, 'được': 9, 'cảm': 8, 'giác': 2, 'trong': 14, 'sáng': 3, 'ấy': 7, 'nảy': 1, 'nở': 2, 'như': 12, 'mấy': 14, 'cành': 1, 'hoa': 1, 'tươi': 2, 'mỉm': 1, 'cười': 1, 'giữa': 2, 'bầu': 1, 'trời': 2, 'quang': 1, 'đãng': 1, 'ý': 3, 'tưởng': 3, 'chưa': 4, 'lần': 9, 'ghi': 2, 'lên': 7, 'giấy': 2, 'vì': 5, 'hồi': 2, 'biết': 4, 'ngày': 4, 'nay': 2, 'nhớ': 1, 'hết': 5, 'nhưng': 10, 'mỗi': 1, 'thấy': 12, 'em': 11, 'nhỏ': 3, 'rụt': 3, 'rè': 3, 'núp': 1, 'dưới': 4, 'nón': 1, 'mẹ': 11, 'đầu': 7, 'tiên': 1, 'đến': 5, 'tưng': 1, 'bừng': 1, 'rộn': 2, 'rã': 1, 'mai': 3, 'hôm': 4, 'một': 18, 'đầy': 4, 'sương': 1, 'gió': 1, 'lạnh': 1, 'âu': 2, 'yếm': 2, 'nắm': 3, 'tay': 7, 'dẫn': 1, 'đi': 12, 'con': 7, 'làng': 6, 'dài': 2, 'hẹp': 1, 'này': 8, 'đã': 9, 'quen': 2, 'lắm': 1, 'tự': 5, 'nhiên': 5, 'lạ': 8, 'cảnh': 3, 'vật': 2, 'chung': 3, 'quanh': 3, 'đều': 3, 'thay': 2, 'đổi': 2, 'chính': 2, 'đang': 7, 'sự': 3, 'lớn': 2, 'học': 11, 'lội': 1, 'qua': 3, 'sông': 2, 'thả': 1, 'diều': 1, 'thằng': 3, 'quý': 1, 'ra': 6, 'đồng': 3, 'nô': 1, 'hò': 1, 'sơn': 1, 'nữa': 5, 'chiếc': 1, 'áo': 4, 'vải': 1, 'dù': 1, 'đen': 2, 'mình': 5, 'trang': 1, 'trọng': 1, 'đứng': 11, 'đắn': 1, 'dọc': 1, 'cậu': 19, 'trạc': 1, 'bằng': 1, 'quần': 2, 'tươm': 1, 'tất': 1, 'nhí': 1, 'nhảnh': 1, 'gọi': 3, 'tên': 4, 'nhau': 3, 'hay': 6, 'trao': 1, 'sách': 2, 'vở': 4, 'cho': 4, 'xem': 1, 'mà': 3, 'thèm': 3, 'hai': 3, 'quyển': 2, 'mới': 5, 'ở': 2, 'bắt': 1, 'nặng': 2, 'bặm': 1, 'ghì': 1, 'thật': 4, 'chặt': 1, 'cũng': 12, 'chì': 1, 'chênh': 1, 'chúi': 1, 'xuống': 2, 'đất': 1, 'xóc': 1, 'cẩn': 2, 'thận': 2, 'trước': 7, 'thiệt': 1, 'kèm': 1, 'cả': 7, 'bút': 3, 'thước': 3, 'để': 8, 'lộ': 1, 'vẻ': 1, 'khó': 1, 'khăn': 1, 'gì': 3, 'muốn': 2, 'thử': 1, 'sức': 2, 'nên': 2, 'nhìn': 16, 'đưa': 3, 'cầm': 2, 'cúi': 1, 'với': 6, 'cặp': 4, 'mắt': 4, 'thôi': 2, 'ngay': 1, 'cái': 2, 'kiến': 1, 'vừa': 4, 'non': 1, 'nớt': 1, 'ngây': 1, 'thơ': 2, 'chắc': 1, 'chỉ': 4, 'người': 13, 'thạo': 1, 'nổi': 1, 'nghĩ': 1, 'thoáng': 1, 'trí': 2, 'nhẹ': 3, 'nhàng': 1, 'làn': 1, 'lướt': 1, 'ngang': 2, 'ngọn': 1, 'núi': 1, 'sân': 3, 'mỹ': 3, 'lý': 3, 'đặc': 1, 'sạch': 2, 'sẽ': 3, 'gương': 2, 'mặt': 4, 'vui': 2, 'sủa': 1, 'đó': 1, 'lúc': 4, 'hòa': 2, 'an': 1, 'bẫy': 2, 'chim': 5, 'quyên': 1, 'minh': 1, 'ghé': 1, 'đối': 1, 'là': 5, 'nơi': 2, 'xa': 5, 'các': 20, 'lớp': 12, 'cửa': 3, 'kính': 2, 'bản': 1, 'đồ': 1, 'treo': 2, 'tường': 2, 'khác': 2, 'nhà': 4, 'cao': 3, 'ráo': 1, 'hơn': 5, 'xinh': 1, 'xắn': 1, 'oai': 1, 'nghiêm': 1, 'đình': 1, 'ấp': 1, 'nó': 2, 'rộng': 2, 'trưa': 2, 'hè': 1, 'vắng': 1, 'lặng': 1, 'đâm': 1, 'lo': 1, 'sợ': 2, 'vẩn': 1, 'vơ': 1, 'trò': 7, 'bở': 1, 'ngỡ': 1, 'nép': 1, 'bên': 2, 'thân': 4, 'dám': 4, 'từng': 2, 'bước': 3, 'họ': 2, 'bờ': 3, 'tổ': 1, 'quãng': 1, 'bay': 3, 'còn': 1, 'ngập': 2, 'ngừng': 3, 'e': 1, 'vụng': 2, 'ước': 1, 'ao': 1, 'thầm': 1, 'cũ': 3, 'thầy': 6, 'khỏi': 1, 'phải': 2, 'sau': 6, 'trống': 1, 'thúc': 1, 'vang': 1, 'dội': 1, 'sắp': 3, 'hàng': 3, 'hiên': 3, 'rồi': 5, 'bé': 1, 'về': 3, 'lúng': 4, 'túng': 4, 'theo': 4, 'mạnh': 3, 'kéo': 1, 'dìu': 1, 'tới': 2, 'nói': 3, 'càng': 2, 'đúng': 1, 'chân': 2, 'dềnh': 1, 'dàng': 2, 'mãi': 1, 'co': 1, 'duỗi': 1, 'đá': 1, 'quả': 2, 'banh': 1, 'tượng': 1, 'toàn': 1, 'run': 2, 'nhịp': 1, 'ràng': 1, 'ông': 8, 'đốc': 7, 'ba': 3, 'phòng': 1, 'riêng': 2, 'đọc': 3, 'tim': 1, 'đập': 1, 'nghe': 4, 'giật': 1, 'khi': 2, 'xong': 1, 'mươi': 2, 'viết': 3, 'sẵn': 1, 'mảnh': 1, 'chúng': 9, 'thế': 1, 'cố': 1, 'gắng': 1, 'dạy': 1, 'sung': 1, 'sướng': 1, 'trả': 1, 'lời': 1, 'may': 1, 'tiếng': 4, 'dạ': 1, 'rang': 1, 'phụ': 1, 'huynh': 1, 'đáp': 1, 'hiền': 2, 'từ': 4, 'động': 1, 'đua': 1, 'quay': 2, 'dừng': 1, 'phút': 1, 'giây': 1, 'ta': 1, 'ngắm': 1, 'vậy': 1, 'lấy': 2, 'trắng': 1, 'đây': 1, 'lưng': 3, 'bàn': 4, 'dịu': 1, 'đẩy': 1, 'nề': 1, 'cách': 1, 'giữ': 1, 'chéo': 1, 'cáng': 1, 'vài': 2, 'lủng': 1, 'lẻo': 1, 'lưu': 1, 'luyến': 2, 'ôm': 1, 'khóc': 3, 'bất': 2, 'dúi': 1, 'thút': 1, 'thít': 1, 'cổ': 1, 'vuốt': 1, 'mái': 1, 'tóc': 1, 'nhẫn': 1, 'nại': 1, 'chờ': 1, 'đừng': 1, 'cơ': 1, 'nghỉ': 1, 'tám': 1, 'đặn': 1, 'liền': 1, 'dấu': 1, 'trẻ': 1, 'tuổi': 1, 'đón': 1, 'thời': 1, 'ấu': 1, 'bao': 1, 'giờ': 1, 'làm': 1, 'nhũng': 1, 'chơi': 1, 'suốt': 1, 'bạn': 3, 'lệ': 1, 'xá': 1, 'vẫn': 2, 'chút': 2, 'mùi': 1, 'hương': 1, 'xông': 1, 'trông': 1, 'hình': 1, 'ghế': 1, 'chỗ': 1, 'ngồi': 2, 'rất': 1, 'nhận': 1, 'tí': 1, 'hon': 1, 'hề': 1, 'quyến': 1, 'ngờ': 1, 'quá': 1, 'tin': 1, 'liệng': 1, 'sổ': 1, 'hót': 1, 'vỗ': 1, 'cánh': 3, 'thuồng': 1, 'lúa': 1, 'viêm': 1, 'sống': 1, 'dẫy': 1, 'phấn': 1, 'gạch': 1, 'bảng': 1, 'vòng': 1, 'chăm': 1, 'lẩm': 1, 'bẩm': 1, 'bài': 1, 'tập': 1}\n"
     ]
    }
   ],
   "source": [
    "van_ban = '''Hằng năm cứ vào cuối thu, lá ngoài đường rụng nhiều và trên không có những đám mây bàng bạc, lòng tôi lại nao nức những kỷ niệm hoang mang của buổi tựu trường.\n",
    "\n",
    "Tôi không thể nào quên được những cảm giác trong sáng ấy nảy nở trong lòng tôi như mấy cành hoa tươi mỉm cười giữa bầu trời quang đãng.\n",
    "\n",
    "Những ý tưởng ấy tôi chưa lần nào ghi lên giấy, vì hồi ấy tôi không biết ghi và ngày nay tôi không nhớ hết. Nhưng mỗi lần thấy mấy em nhỏ rụt rè núp dưới nón mẹ lần đầu tiên đến trường, lòng tôi lại tưng bừng rộn rã.\n",
    "\n",
    "Buổi sáng mai hôm ấy, một buổi mai đầy sương thu và gió lạnh. Mẹ tôi âu yếm nắm tay tôi dẫn đi trên con đường làng dài và hẹp. Con đường này tôi đã quen đi lại lắm lần, nhưng lần này tự nhiên tôi thấy lạ. Cảnh vật chung quanh tôi đều thay đổi, vì chính lòng tôi đang có sự thay đổi lớn: Hôm nay tôi đi học.\n",
    "\n",
    "Tôi không lội qua sông thả diều như thằng Quý và không ra đồng nô hò như thằng Sơn nữa.\n",
    "\n",
    "Trong chiếc áo vải dù đen dài tôi cảm thấy mình trang trọng và đứng đắn.\n",
    "\n",
    "Dọc đường tôi thấy mấy cậu nhỏ trạc bằng tôi, áo quần tươm tất, nhí nhảnh gọi tên nhau hay trao sách vở cho nhau xem mà tôi thèm. Hai quyển vở mới đang ở trên tay tôi đã bắt đầu thấy nặng. Tôi bặm tay ghì thật chặt, nhưng một quyển vở cũng chì ra và chênh đầu chúi xuống đất. Tôi xóc lên và nắm lại cẩn thận. Mấy cậu đi trước sách vở thiệt nhiều lại kèm cả bút thước nữa. Nhưng mấy cậu không để lộ vẻ khó khăn gì hết.\n",
    "\n",
    "Tôi muốn thử sức mình nên nhìn mẹ tôi:\n",
    "\n",
    "- Mẹ đưa bút thước cho con cầm.\n",
    "\n",
    "Mẹ tôi cúi đầu nhìn tôi với cặp mắt thật âu yếm:\n",
    "\n",
    "- Thôi để mẹ nắm cũng được.\n",
    "\n",
    "Tôi có ngay cái ý kiến vừa non nớt vừa ngây thơ này: chắc chỉ người thạo mới cầm nổi bút thước.\n",
    "\n",
    "Ý nghĩ thoáng qua trong trí tôi nhẹ nhàng như một làn mây lướt ngang trên ngọn núi.\n",
    "\n",
    "Trước sân trường làng Mỹ Lý đầy đặc cả người. Người nào áo quần cũng sạch sẽ, gương mặt cũng vui tươi và sáng sủa.\n",
    "\n",
    "Trước đó mấy hôm, lúc đi ngang làng Hòa An bẫy chim quyên với thằng Minh, tôi có ghé trường một lần.\n",
    "\n",
    "Lần ấy trường đối với tôi là một nơi xa lạ. Tôi đi chung quanh các lớp để nhìn qua cửa kính mấy bản đồ treo trên tường. Tôi không có cảm tưởng gì khác là nhà trường cao ráo sạch sẽ hơn các nhà trong làng.\n",
    "\n",
    "\n",
    "\n",
    "Nhưng lần này lại khác. Trước mặt tôi, trường Mỹ Lý vừa xinh xắn vừa oai nghiêm như cái đình Hòa Ấp. Sân nó rộng, mình nó cao hơn những buổi trưa hè đầy vắng lặng. Lòng tôi đâm ra lo sợ vẩn vơ.\n",
    "\n",
    "Cũng như tôi, mấy cậu học trò mới bở ngỡ đứng nép bên người thân, chỉ dám nhìn một nữa hay dám đi từng bước nhẹ. Họ như con chim con đứng trên bờ tổ, nhìn quãng trời rộng muốn bay, nhưng còn ngập ngừng e sợ. Họ thèm vụng và ước ao thầm được như những học trò cũ, biết lớp, biết thầy để khỏi phải rụt rè trong cảnh lạ.\n",
    "\n",
    "Sau một hồi trống thúc vang dội cả lòng tôi, mấy người học trò cũ đến sắp hàng dưới hiên rồi đi vào lớp. Chung quanh những cậu bé vụng về lúng túng như tôi cả. Các cậu không đi. Các cậu chỉ theo sức mạnh kéo dìu các cậu tới trước. Nói các cậu không đứng lại càng đúng hơn nữa. Vì hai chân các cậu cứ dềnh dàng mãi. Hết co lên một chân, các cậu lại duỗi mạnh như đá một quả banh tưởng tượng. Chính lúc này toàn thân các cậu cũng đang run run theo nhịp bước rộn ràng trong các lớp.\n",
    "\n",
    "Ông đốc trường Mỹ Lý cho gọi mấy cậu học trò mới đứng lên trước lớp ba. Trường làng nhỏ nên không có phòng riêng của ông đốc. Trong lúc ông đọc tên từng người, tôi cảm thấy như quả tim tôi ngừng đập. Tôi quên cả mẹ tôi đang đứng sau tôi. Nghe gọi đến tên, tôi tự nhiên giật mình và lúng túng. Sau khi đọc xong mấy mươi tên đã viết sẵn trên mảnh giấy lớn, ông đốc nhìn chúng tôi nói sẽ:\n",
    "\n",
    "- Thế là các em đã vào lớp năm. Các em phải cố gắng học để thầy mẹ được vui lòng, và để thầy dạy chúng em được sung sướng. Các em đã nghe chưa? (Các em đều nghe nhưng không em nào dám trả lời. Cũng may đã có tiếng dạ rang của phụ huynh đáp lại).\n",
    "\n",
    "Ông đốc nhìn chúng tôi với cặp mắt hiền từ và cảm động. Mấy cậu học trò lớp ba cũng đua nhau quay đầu nhìn ra. Và ngoài đường cũng có mấy người đứng dừng lại để nhìn vào. Trong những phút giây này chúng tôi được người ta ngắm nhìn nhiều hơn hết. Vì vậy đã lúng túng chúng tôi càng lúng túng hơn.\n",
    "\n",
    "Ông đốc lấy cặp kính trắng xuống rồi nói:\n",
    "\n",
    "- Thôi, các em đứng đây sắp hàng để vào lớp học.\n",
    "\n",
    "Tôi cảm thấy sau lưng tôi có một bàn tay dịu dàng đẩy tôi tới trước. Nhưng người tôi lúc ấy tự nhiên thấy nặng nề một cách lạ. Không giữ được chéo áo hay cáng tay của người thân, vài ba cậu đã từ từ bước lên đứng dưới hiên lớp. Các cậu lủng lẻo nhìn ra sân, nơi mà những người thân đang nhìn các cậu với cặp mắt lưu luyến. Một cậu đứng đầu ôm mặt khóc. Tôi bất giác quay lưng lại rồi dúi đầu vào lòng mẹ tôi nức nở khóc theo. Tôi nghe sau lưng tôi, trong đám học trò mới, vài tiếng thút thít đang ngập ngừng trong cổ. Một bàn tay quen nhẹ vuốt mái tóc tôi.\n",
    "\n",
    "Ông đốc nhẫn nại chờ chúng tôi.\n",
    "\n",
    "- Các em đừng khóc. Trưa này các em được về nhà cơ mà. Và ngày mai các em lại được nghỉ cả ngày nữa.\n",
    "\n",
    "Sau khi thấy hai mươi tám cậu học trò sắp hàng đều đặn dưới hiên trường, ông đốc liền ra dấu cho chúng tôi vào lớp năm. Một thầy trẻ tuổi, gương mặt hiền từ, đang đón chúng tôi vào cửa lớp. Trong thời thơ ấu tôi chưa bao giờ xa mẹ tôi như lần này. Tôi cũng lấy làm lạ vì có nhũng hôm đi chơi suốt cả ngày với chúng bạn ở đồng làng Lệ Xá, lòng tôi vẫn không cảm thấy xa nhà hay xa mẹ tôi chút nào hết.\n",
    "\n",
    "Một mùi hương lạ xông lên trong lớp. Trông hình gì treo trên tường tôi cũng thấy lạ và hay hay. Tôi nhìn bàn ghế chỗ tôi ngồi rất cẩn thận rồi tự nhiên nhận là vật riêng của mình. Tôi nhìn người bạn tí hon ngồi bên tôi, một người bạn tôi chưa hề biết, nhưng lòng tôi vẫn không cảm thấy sự xa lạ chút nào. Sự quyến luyến ấy tự nhiên và bất ngờ quá đến tôi cũng không dám tin là có thật. Một con chim con liệng đến đứng trên bờ cửa sổ, hót mấy tiếng rụt rè rồi vỗ cánh bay cao.\n",
    "\n",
    "Tôi đưa mắt thèm thuồng nhìn theo cánh chim. Một kỷ niệm cũ đi bẫy chim giữa cánh đồng lúa bay trên bờ sông Viêm sống lại đầy dẫy trong trí tôi.\n",
    "\n",
    "Nhưng những tiếng phấn của thầy tôi gạch mạnh trên bảng đen đã đưa tôi về cảnh thật. Tôi vòng tay lên bàn chăm chỉ nhìn thầy viết và lẩm bẩm đọc: Bài tập viết: Tôi đi học'''\n",
    "\n",
    "# B1: lấy hết tất cả các ký tự đặc biệt và lưu vào bên trong một list\n",
    "L_ky_tu = []\n",
    "\n",
    "for ky_tu in van_ban:\n",
    "    if not ky_tu.isalpha() and not ky_tu.isnumeric() and ky_tu != \" \" and ky_tu != \"\\n\":\n",
    "        if ky_tu not in L_ky_tu:\n",
    "            L_ky_tu.append(ky_tu)\n",
    "\n",
    "# B2: xoá hết tất cả các ký bên trong van_ban\n",
    "for ky_tu in L_ky_tu:\n",
    "    van_ban = van_ban.replace(ky_tu,\"\")\n",
    "\n",
    "van_ban = van_ban.lower()\n",
    "van_ban = van_ban.split()\n",
    "# print(van_ban)\n",
    "\n",
    "D = {}\n",
    "# B3: đếm và xây dựng dictionary D\n",
    "\n",
    "for tu in van_ban:\n",
    "    if tu not in D:\n",
    "        D[tu] = 1\n",
    "    else:\n",
    "        D[tu] += 1\n",
    "print(D)"
   ]
  },
  {
   "cell_type": "code",
   "execution_count": 36,
   "id": "5f0c0846-85af-436b-809e-c14106ea4690",
   "metadata": {},
   "outputs": [
    {
     "name": "stdout",
     "output_type": "stream",
     "text": [
      "{'đen': 0, 'vàng': 1, 'xanh': 2, 'đỏ': 3, 'hồng': 4}\n",
      "[0, 1, 2, 1, 2, 3, 4]\n"
     ]
    }
   ],
   "source": [
    "# Cho một list là một tập các chuỗi\n",
    "\n",
    "# Hãy mã hóa list trên theo nguyên tắc sau:\n",
    "\n",
    "# Mỗi một phần tử, ta mã hóa thành những con số theo thứ tự tăng dần\n",
    "\n",
    "# Ví dụ:\n",
    "\n",
    "# List = [\"đen\",\"vàng\",\"xanh\",\"vàng\",\"xanh\",\"đỏ\",\"hồng\"]\n",
    "\n",
    "# List mã hóa = [0,1,2,1,2,3,4]\n",
    "\n",
    "# - \"đen\" mã hóa thành 0\n",
    "# - \"vàng\" mã hóa thành 1\n",
    "# - \"xanh\" mã hóa thành 2\n",
    "# - \"đỏ\" mã hòa thánh 3\n",
    "# - \"hồng\" mã hòa thành 4\n",
    "\n",
    "L = [\"đen\",\"vàng\",\"xanh\",\"vàng\",\"xanh\",\"đỏ\",\"hồng\"]\n",
    "\n",
    "# Tạo ra một D_ma_hoa có key là từng giá trị bên trong list L và giá trị của key là giá trị mã hoá tương ứng\n",
    "D_ma_hoa = {}\n",
    "a = 0\n",
    "for i in L:\n",
    "    if i not in D_ma_hoa:\n",
    "        D_ma_hoa[i] = a\n",
    "        a += 1\n",
    "print(D_ma_hoa)\n",
    "\n",
    "L_ma_hoa = []\n",
    "for i in L:\n",
    "    L_ma_hoa.append(D_ma_hoa[i])\n",
    "print(L_ma_hoa)"
   ]
  },
  {
   "cell_type": "code",
   "execution_count": 37,
   "id": "51c6006c-16d4-43a8-b57a-206bbf306104",
   "metadata": {},
   "outputs": [
    {
     "name": "stdout",
     "output_type": "stream",
     "text": [
      "{'vuông': 0, 'tròn': 1, 'tam giác': 2, 'chữ nhật': 3, 'bình hành': 4}\n",
      "[0, 1, 2, 3, 1, 3, 4]\n"
     ]
    }
   ],
   "source": [
    "L = [\"vuông\",\"tròn\",\"tam giác\",\"chữ nhật\",\"tròn\",\"chữ nhật\",\"bình hành\"]\n",
    "# L_ma_hoa = [0,1,2,3,1,3,4]\n",
    "# vuông ~~> 0\n",
    "# tròn ~~> 1\n",
    "# tam giác ~~> 2\n",
    "# chữ nhật ~~> 3\n",
    "# bình hành ~~> 4\n",
    "\n",
    "D_ma_hoa = {}\n",
    "a = 0\n",
    "for i in L:\n",
    "    if i not in D_ma_hoa:\n",
    "        D_ma_hoa[i] = a\n",
    "        a += 1\n",
    "print(D_ma_hoa)\n",
    "\n",
    "L_ma_hoa = []\n",
    "for i in L:\n",
    "    L_ma_hoa.append(D_ma_hoa[i])\n",
    "print(L_ma_hoa)"
   ]
  },
  {
   "cell_type": "code",
   "execution_count": 45,
   "id": "ced3c362-1261-4d4b-93e2-0e801b989378",
   "metadata": {},
   "outputs": [
    {
     "name": "stdout",
     "output_type": "stream",
     "text": [
      "{0: 'vuông', 1: 'tròn', 2: 'tam giác', 3: 'chữ nhật', 4: 'bình hành'}\n",
      "['vuông', 'tròn', 'tam giác', 'chữ nhật', 'tròn', 'chữ nhật', 'bình hành']\n"
     ]
    }
   ],
   "source": [
    "L_ma_hoa = [0, 1, 2, 3, 1, 3, 4]\n",
    "D_ma_hoa = {'vuông': 0, 'tròn': 1, 'tam giác': 2, 'chữ nhật': 3, 'bình hành': 4}\n",
    "\n",
    "# mã hoá ngược lại thành L thông thường\n",
    "D_ma_hoa_nguoc = {}\n",
    "for k in D_ma_hoa:\n",
    "    v = D_ma_hoa[k]\n",
    "    D_ma_hoa_nguoc[v] = k\n",
    "print(D_ma_hoa_nguoc)\n",
    "L = []\n",
    "for i in L_ma_hoa:\n",
    "    L.append(D_ma_hoa_nguoc[i])\n",
    "print(L)"
   ]
  },
  {
   "cell_type": "code",
   "execution_count": 46,
   "id": "4e0e7ba0-d158-4649-95c3-0ba1e27b32ba",
   "metadata": {},
   "outputs": [
    {
     "name": "stdout",
     "output_type": "stream",
     "text": [
      "aaa\n",
      "abc\n"
     ]
    }
   ],
   "source": [
    "# Cho một dictonary có các giá trị là các số nguyên\n",
    "# Hãy viết hàm tìm key có giá trị lớn nhất\n",
    "\n",
    "def tim_k_max(D):\n",
    "    k_max = None\n",
    "    for k in D:\n",
    "        if k_max == None or D[k] > D[k_max]:\n",
    "            k_max = k\n",
    "    return k_max\n",
    "\n",
    "print(tim_k_max({\"abc\": 10, \"bcd\":20, \"aaa\": 100})) # aaa\n",
    "print(tim_k_max({\"abc\": 101, \"bcd\":20, \"aaa\": 100})) # abc"
   ]
  },
  {
   "cell_type": "code",
   "execution_count": 47,
   "id": "e65cc36c-aacc-4e20-9b0b-3d554534ab7d",
   "metadata": {},
   "outputs": [
    {
     "name": "stdout",
     "output_type": "stream",
     "text": [
      "11\n",
      "15\n"
     ]
    }
   ],
   "source": [
    "# Cho một dictonary có các key đều là chuỗi\n",
    "# Hãy viết hàm trả về giá trị của key có độ dài chuỗi là lớn nhất\n",
    "\n",
    "def tim_gia_tri(D):\n",
    "    ket_qua = None\n",
    "    for k in D:\n",
    "        if ket_qua == None or len(ket_qua) < len(k):\n",
    "            ket_qua = k\n",
    "    return D[ket_qua]\n",
    "\n",
    "print(tim_gia_tri({\"a\":15,\"ab\":10,\"abc\":11})) # 11\n",
    "print(tim_gia_tri({\"asdw\":15,\"ab\":10,\"abc\":11})) # 15"
   ]
  },
  {
   "cell_type": "markdown",
   "id": "57c6f1e7",
   "metadata": {},
   "source": [
    "Viết chương trình cho phép người dùng quản lý sản phẩm, gồm các chức năng sau: \n",
    "\n",
    "- Hiển thị danh sách sản phẩm\n",
    "- Thêm sản phẩm mới vào danh sách\n",
    "- Sửa tên của sản phẩm trong danh sách\n",
    "- Xoá một sản phẩm khỏi danh sách"
   ]
  },
  {
   "cell_type": "code",
   "execution_count": null,
   "id": "8541b8c3",
   "metadata": {},
   "outputs": [],
   "source": []
  }
 ],
 "metadata": {
  "kernelspec": {
   "display_name": "Python 3 (ipykernel)",
   "language": "python",
   "name": "python3"
  },
  "language_info": {
   "codemirror_mode": {
    "name": "ipython",
    "version": 3
   },
   "file_extension": ".py",
   "mimetype": "text/x-python",
   "name": "python",
   "nbconvert_exporter": "python",
   "pygments_lexer": "ipython3",
   "version": "3.11.7"
  }
 },
 "nbformat": 4,
 "nbformat_minor": 5
}
