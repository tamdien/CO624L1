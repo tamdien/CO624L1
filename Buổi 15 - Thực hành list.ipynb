{
 "cells": [
  {
   "cell_type": "markdown",
   "id": "011431b9",
   "metadata": {},
   "source": [
    "# Thực hành List\n",
    "\n",
    "##### Chú ý: list một dãy số người ta còn gọi là một mảng\n",
    "\n",
    "### Bài 1"
   ]
  },
  {
   "cell_type": "markdown",
   "id": "61a90628",
   "metadata": {},
   "source": [
    "Viết hàm với đầu vào là một mảng, hãy tính và trả về giá trị trung bình của mảng"
   ]
  },
  {
   "cell_type": "code",
   "execution_count": 1,
   "id": "bcc197d5",
   "metadata": {},
   "outputs": [
    {
     "name": "stdout",
     "output_type": "stream",
     "text": [
      "3.0\n"
     ]
    }
   ],
   "source": [
    "def tinh_trung_binh(L):\n",
    "    tong = 0\n",
    "    for i in L:\n",
    "        tong += i\n",
    "    return tong/len(L)\n",
    "\n",
    "a = tinh_trung_binh([5,2,2,3]) # 3\n",
    "print(a)"
   ]
  },
  {
   "cell_type": "markdown",
   "id": "30d26c1b",
   "metadata": {},
   "source": [
    "### Bài 2"
   ]
  },
  {
   "cell_type": "markdown",
   "id": "674ef26c",
   "metadata": {},
   "source": [
    "Viết hàm với đầu vào là một mảng, hãy tìm và trả về giá trị âm lớn nhất trong mảng"
   ]
  },
  {
   "cell_type": "code",
   "execution_count": 4,
   "id": "1a9cb505",
   "metadata": {},
   "outputs": [
    {
     "name": "stdout",
     "output_type": "stream",
     "text": [
      "-3\n",
      "None\n",
      "-10\n"
     ]
    }
   ],
   "source": [
    "def tim_gia_tri_am_lon_nhat(L):\n",
    "    m = None\n",
    "    for i in L:\n",
    "        if i < 0:\n",
    "            if m == None or i > m:\n",
    "                m = i\n",
    "\n",
    "    return m\n",
    "\n",
    "a = tim_gia_tri_am_lon_nhat([5,4,2,-3,-10,-5]) # -3\n",
    "b = tim_gia_tri_am_lon_nhat([5,4,2,3,10,5]) # None\n",
    "c = tim_gia_tri_am_lon_nhat([5,4,2,-10,3,1]) # -10\n",
    "\n",
    "print(a)\n",
    "print(b)\n",
    "print(c)"
   ]
  },
  {
   "cell_type": "code",
   "execution_count": 8,
   "id": "c9d70296-f386-4580-8ae2-25b582e10cf1",
   "metadata": {},
   "outputs": [
    {
     "ename": "TypeError",
     "evalue": "'>' not supported between instances of 'int' and 'NoneType'",
     "output_type": "error",
     "traceback": [
      "\u001b[1;31m---------------------------------------------------------------------------\u001b[0m",
      "\u001b[1;31mTypeError\u001b[0m                                 Traceback (most recent call last)",
      "Cell \u001b[1;32mIn[8], line 1\u001b[0m\n\u001b[1;32m----> 1\u001b[0m a \u001b[38;5;241m=\u001b[39m \u001b[38;5;241;43m1\u001b[39;49m\u001b[43m \u001b[49m\u001b[38;5;241;43m>\u001b[39;49m\u001b[43m \u001b[49m\u001b[38;5;28;43;01mNone\u001b[39;49;00m\n\u001b[0;32m      2\u001b[0m \u001b[38;5;28mprint\u001b[39m(a)\n",
      "\u001b[1;31mTypeError\u001b[0m: '>' not supported between instances of 'int' and 'NoneType'"
     ]
    }
   ],
   "source": [
    "a = 1 > None\n",
    "print(a)"
   ]
  },
  {
   "cell_type": "markdown",
   "id": "95cfaa74",
   "metadata": {},
   "source": [
    "### Bài 3"
   ]
  },
  {
   "cell_type": "markdown",
   "id": "5361a4b8",
   "metadata": {},
   "source": [
    "Viết hàm với giá trị đầu vào là một mảng, hãy sắp xếp và trả về mảng có độ lớn tăng dần"
   ]
  },
  {
   "cell_type": "code",
   "execution_count": null,
   "id": "91ad4d5d",
   "metadata": {},
   "outputs": [],
   "source": []
  },
  {
   "cell_type": "markdown",
   "id": "025cc0cb",
   "metadata": {},
   "source": [
    "### Bài 4"
   ]
  },
  {
   "cell_type": "markdown",
   "id": "dbf885a9",
   "metadata": {},
   "source": [
    "Viết hàm với giá trị đầu vào là một mảng, tìm x sao cho đoạn [-x,x] chứa tất cả các giá trị có trong mảng"
   ]
  },
  {
   "cell_type": "code",
   "execution_count": 12,
   "id": "84606ea2",
   "metadata": {},
   "outputs": [
    {
     "name": "stdout",
     "output_type": "stream",
     "text": [
      "15\n",
      "20\n"
     ]
    }
   ],
   "source": [
    "def tim_x(L):\n",
    "    # tìm giá trị lớn nhất và nhỏ nhất trong list\n",
    "    # so sánh trị tuyệt đối của 2 giá trị đó\n",
    "    # giá trị nào có trị tuyệt đối lớn hơn thì sẽ trả về trị tuyệt đối của số đó\n",
    "\n",
    "    m = L[0] # tạm thời cho giá trị đầu tiên vào m\n",
    "    n = L[0]\n",
    "    for i in L:\n",
    "        if m < i: # nếu m nhỏ hơn bất kỳ giá trị nào\n",
    "            m = i # thì giá trị đó sẽ được lưu vào m\n",
    "        if n > i:\n",
    "            n = i\n",
    "    if abs(m) > abs(n):\n",
    "        return abs(m)\n",
    "    return abs(n)\n",
    "\n",
    "print(tim_x([7,10,-5,15,-9])) # 15\n",
    "print(tim_x([7,10,-5,15,-20])) # 20"
   ]
  },
  {
   "cell_type": "code",
   "execution_count": 10,
   "id": "849ee7d2-8e39-4946-b1e7-b863b8fd7601",
   "metadata": {},
   "outputs": [
    {
     "name": "stdout",
     "output_type": "stream",
     "text": [
      "15\n",
      "-20\n"
     ]
    }
   ],
   "source": [
    "def tim_x(lst):\n",
    "    m = lst[0]  \n",
    "    for i in lst[1:]:\n",
    "        if abs(i) > abs(m):\n",
    "            m = i\n",
    "        elif abs(i) == abs(m) and i > m:\n",
    "            m = i\n",
    "\n",
    "    return m\n",
    "\n",
    "print(tim_x([7,10,-5,15,-9])) # 15\n",
    "print(tim_x([7,10,-5,15,-20])) # 20"
   ]
  },
  {
   "cell_type": "code",
   "execution_count": 11,
   "id": "95a38a35-1506-4b8b-b3d5-0a55f07e14fa",
   "metadata": {},
   "outputs": [
    {
     "name": "stdout",
     "output_type": "stream",
     "text": [
      "10\n",
      "10\n"
     ]
    }
   ],
   "source": [
    "def tim_x(L):\n",
    "    gia_tri_lon_nhat = L[0]\n",
    "    for i in L:\n",
    "        gia_tri_lon_nhat=i\n",
    "        gia_tri=abs(i)\n",
    "        if gia_tri_lon_nhat < gia_tri:\n",
    "            gia_tri=gia_tri_lon_nhat\n",
    "    \n",
    "    return x\n",
    "\n",
    "print(tim_x([7,10,-5,15,-9]))\n",
    "print(tim_x([7,10,-5,15,-20]))"
   ]
  },
  {
   "cell_type": "markdown",
   "id": "98aa10b5",
   "metadata": {},
   "source": [
    "### Bài 5"
   ]
  },
  {
   "cell_type": "markdown",
   "id": "a7fe3092",
   "metadata": {},
   "source": [
    "Viết hàm với giá trị đầu vào là một mảng, Hãy tìm một vị trí trong mảng thỏa hai điền kiện: có hai giá trị lân cận và giá trị tại vị trí đó bằng tích hai giá trị lân cận. Nếu mảng không tồn tại giá trị như vậy thì hàm trả về giá trị - 1"
   ]
  },
  {
   "cell_type": "code",
   "execution_count": null,
   "id": "9d55cb01",
   "metadata": {},
   "outputs": [],
   "source": [
    "def tim_vi_tri(L):\n",
    "    for i in range(1,len(L)-1):\n",
    "        # giả sử len(L) = 5 ~~> i sẽ chạy 1,2,3\n",
    "        if L[i] == L[i-1]*L[i+1]:\n",
    "            return i\n",
    "    \n",
    "    return -1\n",
    "\n",
    "print(tim_vi_tri([5,3,15,5,20])) # 2\n",
    "print(tim_vi_tri([10,15,20,5,30])) # -1\n",
    "print(tim_vi_tri([10,15,20,600,30])) # 3"
   ]
  },
  {
   "cell_type": "markdown",
   "id": "035325d7",
   "metadata": {},
   "source": [
    "### Bài 6"
   ]
  },
  {
   "cell_type": "markdown",
   "id": "e2d35127",
   "metadata": {},
   "source": [
    "Viết hàm có giá trị đầu vào là một mảng. Hãy tìm giá trị đầu tiên trong mảng một chiều các số nguyên có chữ sốđầu tiên là chữ số lẻ. Nếu trong mảng không tồn tại giá trị như vậy thì hàm sẽ trả về giá trị 0."
   ]
  },
  {
   "cell_type": "code",
   "execution_count": 15,
   "id": "b8a8b8a2",
   "metadata": {},
   "outputs": [
    {
     "name": "stdout",
     "output_type": "stream",
     "text": [
      "123\n",
      "756\n",
      "0\n"
     ]
    }
   ],
   "source": [
    "def kiem_tra_chu_so_dau_tien_la_chu_so_le(a):\n",
    "    # return True nếu a có chữ số đầu tiên là chữ số lẻ\n",
    "    # return False nếu a không có chữ số đầu tiên là chữ số lẻ\n",
    "\n",
    "    ### lấy chữ số đầu tiên\n",
    "    so_dau_tien = str(abs(a))[0]\n",
    "    so_dau_tien = int(so_dau_tien)\n",
    "    ### kiểm tra so_dau_tien là chẳn\n",
    "    return so_dau_tien % 2 != 0\n",
    "\n",
    "def tim_so_chu_so_dau_le(L):\n",
    "    for i in L:\n",
    "        if kiem_tra_chu_so_dau_tien_la_chu_so_le(i):\n",
    "            return i\n",
    "    return 0\n",
    "\n",
    "print(tim_so_chu_so_dau_le([234,678,654,123,756,891])) # 123\n",
    "print(tim_so_chu_so_dau_le([234,677,654,223,756,891])) # 756\n",
    "print(tim_so_chu_so_dau_le([234,677,654,223,456,891])) # 0"
   ]
  },
  {
   "cell_type": "code",
   "execution_count": null,
   "id": "330ce011-769f-4a4b-b690-d9bb6925d437",
   "metadata": {},
   "outputs": [],
   "source": [
    "def chu_so_le(a):\n",
    "    if a%2==0 and a>0 :\n",
    "        return False\n",
    "    return True"
   ]
  },
  {
   "cell_type": "markdown",
   "id": "da270d1a",
   "metadata": {},
   "source": [
    "### Bài 7"
   ]
  },
  {
   "cell_type": "markdown",
   "id": "079fdafe",
   "metadata": {},
   "source": [
    "Viết hàm có giá trị đầu vào là một mảng. Hãy tìm giá trị đầu tiên trong mảng có dạng 2^k. Nếu mảng không tồn tại giá trị dạng 2^k thì hàm sẽ trả về giá trị 0."
   ]
  },
  {
   "cell_type": "code",
   "execution_count": 32,
   "id": "f9311f33",
   "metadata": {},
   "outputs": [
    {
     "name": "stdout",
     "output_type": "stream",
     "text": [
      "16\n",
      "0\n"
     ]
    }
   ],
   "source": [
    "def kiem_tra_2_mu_k(a):\n",
    "    # chia số a cho 2 cho đến khi nào không chia được\n",
    "    # nếu chia đến số 1 thì đó chính là dạng 2 mũ k, ngược lại đó phải là dạng 2 mũ k\n",
    "    # 32 ~~> 16 ~~> 8 ~~> 4 ~~> 2 ~~> 1 ~~> đây là dạng 2 mũ\n",
    "    # 36 ~~> 18 ~~> 9 ~~> đây không phải là dạng mũ 2\n",
    "    if a < 0:\n",
    "        return False\n",
    "    if a < 1: # nếu a bé hơn 1, thì ta sẽ đảo a lại (1/4 ~~> 4, 1/2 ~~> 2)\n",
    "        a = 1/a\n",
    "    while a % 2 == 0: # a còn chia hết cho 2 thì còn chia\n",
    "        a = a/2\n",
    "    return a == 1\n",
    "\n",
    "def tim_so_2_mu_k(L):\n",
    "    for i in L:\n",
    "        if kiem_tra_2_mu_k(i):\n",
    "            return i\n",
    "    return 0\n",
    "\n",
    "print(tim_so_2_mu_k([12,20,16,70,25])) # 16\n",
    "print(tim_so_2_mu_k([12,20,18,70,25])) # 0"
   ]
  },
  {
   "cell_type": "code",
   "execution_count": 25,
   "id": "7259a7b1-6b4a-48a0-8244-bdb348790f23",
   "metadata": {},
   "outputs": [
    {
     "name": "stdout",
     "output_type": "stream",
     "text": [
      "True\n"
     ]
    }
   ],
   "source": [
    "def luy_thua_2 (a):\n",
    "    if a < 0:\n",
    "        return False\n",
    "    if a < 1:\n",
    "        a = 1/a\n",
    "    while a != 1:\n",
    "        if a % 2 != 0:\n",
    "            return False\n",
    "        a //= 2\n",
    "        \n",
    "    return True\n",
    "\n",
    "print(luy_thua_2(4))"
   ]
  },
  {
   "cell_type": "markdown",
   "id": "80c8ab17",
   "metadata": {},
   "source": [
    "### Bài 8"
   ]
  },
  {
   "cell_type": "markdown",
   "id": "47c3a2e2",
   "metadata": {},
   "source": [
    "Viết hàm có giá trị đầu vào là một mảng. Hãy tìm giá trị thỏa điều kiện toàn chữ số lẻ và là giá trị lớn nhất thỏa điều kiện ấy trong mảng (nếu mảng không có giá trị thỏa điều kiện trên thì hàm trả về giá trị 0)"
   ]
  },
  {
   "cell_type": "code",
   "execution_count": 3,
   "id": "f8740d98",
   "metadata": {},
   "outputs": [
    {
     "name": "stdout",
     "output_type": "stream",
     "text": [
      "1359\n",
      "1359\n",
      "0\n"
     ]
    }
   ],
   "source": [
    "def kiem_tra_so_toan_le(a):\n",
    "    # nếu a là số toàn lẻ (toàn chữ số là số lẻ), trả về True, ngược lại thì trả về False\n",
    "    for i in str(a):\n",
    "        ## nếu a có 1 chữ số chẵn ~~> False\n",
    "        if int(i) % 2 == 0:\n",
    "            return False\n",
    "    ## a không có chữ số chẵn nào ~~> True\n",
    "    return True\n",
    "\n",
    "def tim_so(L):\n",
    "    m = None\n",
    "    for i in L:\n",
    "        if kiem_tra_so_toan_le(i):\n",
    "            if m == None or m < i:\n",
    "                m = i\n",
    "    if m == None:\n",
    "        return 0\n",
    "    return m\n",
    "\n",
    "print(tim_so([137,1359,1245,1309,1758])) \n",
    "# trong list này chúng ta chỉ có 2 số là số toàn lẻ là 137 và 1359, 1359 lớn nhất ~~> 1359\n",
    "print(tim_so([137,1359,1245,1309,1758,131])) \n",
    "# trong list này chúng ta chỉ có 3 số là số toàn lẻ là 137, 1359 và 131, 1359 lớn nhất ~~> 1359\n",
    "print(tim_so([1372,12359,1245,14309,1758,132])) \n",
    "# trong list này chúng ta chỉ có 0 số là số toàn lẻ ~~> 0"
   ]
  },
  {
   "cell_type": "markdown",
   "id": "8a09bf26",
   "metadata": {},
   "source": [
    "### Bài 9"
   ]
  },
  {
   "cell_type": "markdown",
   "id": "09f9a4c6",
   "metadata": {},
   "source": [
    "Trong kỳ thi học sinh giỏi môn Tin học, một học sinh là người đạt giải đặc biệt. Ban tổ chức cho phép học sinh đó chọn các phần thưởng cho mình.\n",
    "\n",
    "Các phần thưởng xếp thành một dãy được đánh số từ 1 đến N (0 ≤ N ≤ 10000), phần thưởng thứ i có giá trị là Ai (1 ≤ Ai ≤ 100).\n",
    "\n",
    "Học sinh được phép chọn các phần thưởng cho mình theo nguyên tắc không chọn 3 phần thưởng liên tiếp nhau trong dãy.\n",
    "\n",
    "Viết chương trình để máy tính hướng dẫn học sinh đó chọn các phần thưởng sao cho tổng giá trị của các phần thưởng nhận được là lớn nhất.\n",
    "\n",
    "Nhập vào N, sau đó nhập n lần các giá trị Ai\n",
    "\n",
    "In ra giá trị lớn nhất học sinh được chọn, và các vị trí mà học sinh cần chọn để đạt được giá trị lớn nhất"
   ]
  },
  {
   "cell_type": "code",
   "execution_count": null,
   "id": "c350a1e9",
   "metadata": {},
   "outputs": [],
   "source": []
  }
 ],
 "metadata": {
  "kernelspec": {
   "display_name": "Python 3 (ipykernel)",
   "language": "python",
   "name": "python3"
  },
  "language_info": {
   "codemirror_mode": {
    "name": "ipython",
    "version": 3
   },
   "file_extension": ".py",
   "mimetype": "text/x-python",
   "name": "python",
   "nbconvert_exporter": "python",
   "pygments_lexer": "ipython3",
   "version": "3.11.7"
  }
 },
 "nbformat": 4,
 "nbformat_minor": 5
}
