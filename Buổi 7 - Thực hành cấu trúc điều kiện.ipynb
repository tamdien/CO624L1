{
 "cells": [
  {
   "cell_type": "markdown",
   "id": "dcdb816e",
   "metadata": {},
   "source": [
    "# Thực hành cấu trúc điều khiển\n",
    "\n",
    "### Bài 1\n",
    "\n",
    "Cho phương trình bậc 2: ax^2 + bx + c = 0\n",
    "\n",
    "Nhập a, b, c\n",
    "\n",
    "Giải và biện luận phương trình trên"
   ]
  },
  {
   "cell_type": "code",
   "execution_count": 10,
   "id": "b5a5c325",
   "metadata": {},
   "outputs": [
    {
     "name": "stdin",
     "output_type": "stream",
     "text": [
      "số a: 0\n",
      "số b: 1\n",
      "số c: 2\n"
     ]
    },
    {
     "name": "stdout",
     "output_type": "stream",
     "text": [
      "Phương trình có 1 nghiệm duy nhất: -2.0\n"
     ]
    }
   ],
   "source": [
    "a = int(input(\"số a:\"))\n",
    "b = int(input(\"số b:\"))\n",
    "c = int(input(\"số c:\"))\n",
    "\n",
    "if a == 0:\n",
    "    if b == 0:\n",
    "        if c == 0:\n",
    "            # 0 = 0\n",
    "            print(\"Phương trình vô số nghiệm\")\n",
    "        else:\n",
    "            # 0 = 7\n",
    "            print(\"Phương trình vô nghiệm\")\n",
    "    else:\n",
    "        x = -c/b\n",
    "        print(\"Phương trình có 1 nghiệm duy nhất:\",x)\n",
    "else:\n",
    "    delta = b**2 - 4*a*c\n",
    "    if (delta < 0):\n",
    "        print (\"chương trình vô nghiệm\")\n",
    "    elif (delta == 0):\n",
    "        x = ((-b)/2*a)\n",
    "        print(\"Đây là phương trình có 1 nghiệm kép:\",x)\n",
    "    elif (delta > 0):\n",
    "        x1 = (-b+(delta**0.5))/(2*a)\n",
    "        x2 = (-b-(delta**0.5))/(2*a)\n",
    "        print(\"Đây là phương trình có 2 nghiệm phân biệt\",x1,x2)\n"
   ]
  },
  {
   "cell_type": "markdown",
   "id": "6f7d329d",
   "metadata": {},
   "source": [
    "### Bài 2\n",
    "\n",
    "Hãy nhập vào một số\n",
    "\n",
    "Xác định coi đó có phải là số nguyên tố hay không"
   ]
  },
  {
   "cell_type": "code",
   "execution_count": null,
   "id": "049c85f5",
   "metadata": {},
   "outputs": [],
   "source": [
    "a = int(input(\"Nhập vào số:\"))\n",
    "\n",
    "# số nguyên tố là số chỉ có 2 ước là 1 và chính nó\n",
    "# "
   ]
  },
  {
   "cell_type": "markdown",
   "id": "75f7717b",
   "metadata": {},
   "source": [
    "### Bài 3\n",
    "\n",
    "Hãy nhập vào số n\n",
    "\n",
    "Hãy đếm số chữ số 0 tận cùng của n giai thừa\n",
    "\n",
    "(Bài này nâng cao, mọi người có thể bỏ qua)"
   ]
  },
  {
   "cell_type": "code",
   "execution_count": null,
   "id": "789e0e76",
   "metadata": {},
   "outputs": [],
   "source": []
  },
  {
   "cell_type": "markdown",
   "id": "29cd6c81",
   "metadata": {},
   "source": [
    "### Bài 4\n",
    "\n",
    "In ra tất cả các số chia hết cho 3 nhỏ hơn 100"
   ]
  },
  {
   "cell_type": "code",
   "execution_count": 14,
   "id": "0b848981",
   "metadata": {},
   "outputs": [
    {
     "name": "stdout",
     "output_type": "stream",
     "text": [
      "0\n",
      "3\n",
      "6\n",
      "9\n",
      "12\n",
      "15\n",
      "18\n",
      "21\n",
      "24\n",
      "27\n",
      "30\n",
      "33\n",
      "36\n",
      "39\n",
      "42\n",
      "45\n",
      "48\n",
      "51\n",
      "54\n",
      "57\n",
      "60\n",
      "63\n",
      "66\n",
      "69\n",
      "72\n",
      "75\n",
      "78\n",
      "81\n",
      "84\n",
      "87\n",
      "90\n",
      "93\n",
      "96\n",
      "99\n"
     ]
    }
   ],
   "source": [
    "for i in range(0,100):\n",
    "    if i % 3 == 0:\n",
    "        print(i)"
   ]
  },
  {
   "cell_type": "markdown",
   "id": "04dbf99b",
   "metadata": {},
   "source": [
    "### Bài 5\n",
    "\n",
    "In ra tất cả các số lẻ nhưng không chia hết cho 3 nhỏ hơn 100"
   ]
  },
  {
   "cell_type": "code",
   "execution_count": 15,
   "id": "769eb439",
   "metadata": {},
   "outputs": [
    {
     "name": "stdout",
     "output_type": "stream",
     "text": [
      "1\n",
      "5\n",
      "7\n",
      "11\n",
      "13\n",
      "17\n",
      "19\n",
      "23\n",
      "25\n",
      "29\n",
      "31\n",
      "35\n",
      "37\n",
      "41\n",
      "43\n",
      "47\n",
      "49\n",
      "53\n",
      "55\n",
      "59\n",
      "61\n",
      "65\n",
      "67\n",
      "71\n",
      "73\n",
      "77\n",
      "79\n",
      "83\n",
      "85\n",
      "89\n",
      "91\n",
      "95\n",
      "97\n"
     ]
    }
   ],
   "source": [
    "for i in range(0,100):\n",
    "    if i % 2 != 0 and i % 3 != 0:\n",
    "        print(i)"
   ]
  },
  {
   "cell_type": "markdown",
   "id": "26dd47fb",
   "metadata": {},
   "source": [
    "### Bài 5\n",
    "\n",
    "Tại một cửa hàng nọ có menu như sau:\n",
    "\n",
    "1. Gà rán giá 35k\n",
    "2. Hamburger giá 50k\n",
    "3. Pesi giá 10k\n",
    "\n",
    "Nhập số lượng món hàng cần mua\n",
    "\n",
    "Tính và in ra tổng giá tiền (hiển thị có dấu chấm mỗi 3 chữ số để người dùng để quan sát)\n",
    "\n",
    "Nếu giá trị đơn hàng trên 2 triệu, giảm 10% cho khách, trên 4 triệu, giảm 15%\n",
    "\n",
    "Tính và in ra tổng giá tiền được giảm (hiển thị có dấu chấm mỗi 3 chữ số để người dùng để quan sát)\n",
    "\n",
    "Tính và in ra tổng giá tiền khách cần trả (hiển thị có dấu chấm mỗi 3 chữ số để người dùng để quan sát)\n",
    "\n",
    "In ra dòng chữ \"Cảm ơn quý khách đã mua hàng\""
   ]
  },
  {
   "cell_type": "code",
   "execution_count": 25,
   "id": "8509df1e",
   "metadata": {},
   "outputs": [
    {
     "name": "stdin",
     "output_type": "stream",
     "text": [
      "số gà rán cần mua: 100\n",
      "số hamburger cần mua: 10\n",
      "số pesi cần mua: 1\n"
     ]
    },
    {
     "name": "stdout",
     "output_type": "stream",
     "text": [
      "Trước khi giảm giá: 4010000\n",
      "Sau khi giảm giá: 3408500.0\n",
      "Cảm ơn quý khách\n"
     ]
    }
   ],
   "source": [
    "a = int(input(\"số gà rán cần mua:\"))\n",
    "b = int(input(\"số hamburger cần mua:\"))\n",
    "c = int(input(\"số pesi cần mua:\"))\n",
    "if a >= 0 and b >= 0 and c >= 0:\n",
    "    thanh_toan = ((a * 35000) + (b * 50000) + (c *10000))\n",
    "    print(\"Trước khi giảm giá:\", thanh_toan)\n",
    "    if (thanh_toan > 4000000):\n",
    "        thanh_toan = (thanh_toan * 0.85)\n",
    "    elif (thanh_toan > 2000000):\n",
    "        thanh_toan = (thanh_toan * 0.9)\n",
    "    print(\"Sau khi giảm giá:\", thanh_toan)\n",
    "    print(\"Cảm ơn quý khách\")\n",
    "else:\n",
    "    print(\"Có 1 số lượng món hàng là số âm\")"
   ]
  },
  {
   "cell_type": "code",
   "execution_count": null,
   "id": "3a955296-60ad-4abf-b2cf-f5715d064fbb",
   "metadata": {},
   "outputs": [],
   "source": [
    "x = int(input(\"Nhập số lượng gà rán:\"))\n",
    "y = int(input(\"Nhập số lượng Hamburger:\"))\n",
    "z = int(input(\"Nhập số lượng Pepsi:\"))\n",
    "bill= 35000*x+y*50000+z*10000 \n",
    "\n",
    "if bill>4000000:\n",
    "    giam_1=bill*0.15\n",
    "    tra_1=bill*0.85\n",
    "    print(\"Tổng tiền\",\"{:,.0f}\".format(bill).replace(\",\",\".\"))\n",
    "    print(\"Tổng tiền được giảm:\",\"{:,.0f}\".format(giam_1).replace(\",\",\".\"))\n",
    "    print(\"Tổng tiền cần thanh toán:\",\"{:,.0f}\".format(tra_1).replace(\",\",\".\"))\n",
    "elif bill>2000000:\n",
    "    giam_2=bill*0.1\n",
    "    tra_2=bill*0.9\n",
    "    print(\"Tổng tiền\",\"{:,.0f}\".format(bill).replace(\",\",\".\"))\n",
    "    print(\"Tổng tiền được giảm:\",\"{:,.0f}\".format(giam_2).replace(\",\",\".\"))\n",
    "    print(\"Tổng tiền cần thanh toán:\",\"{:,.0f}\".format(tra_2).replace(\",\",\".\"))\n",
    "else:\n",
    "    print(\"Tổng tiền:\",\"{:,.0f}\".format(bill).replace(\",\",\".\"))\n",
    "print(\"Cảm ơn quý khách đã mua hàng\")"
   ]
  },
  {
   "cell_type": "code",
   "execution_count": 35,
   "id": "55c3d432-3672-4877-873c-c045d616d54c",
   "metadata": {},
   "outputs": [
    {
     "name": "stdin",
     "output_type": "stream",
     "text": [
      "Nhập vào gà: 10\n",
      "Nhập vào ham: 0\n",
      "Nhập vào pesi: 0\n"
     ]
    },
    {
     "name": "stdout",
     "output_type": "stream",
     "text": [
      "Tổng hoá đơn: 350.000\n",
      "Thanh toán 350.000 \n",
      "Cảm ơn quý khách\n"
     ]
    }
   ],
   "source": [
    "a = int(input(\"Nhập vào gà:\"))\n",
    "b = int(input(\"Nhập vào ham:\"))\n",
    "c = int(input(\"Nhập vào pesi:\"))\n",
    "\n",
    "gia = a*35000 + b*50000 + c*10000\n",
    "print(\"Tổng hoá đơn:\", f'{gia:_}'.replace(\"_\",\".\"))\n",
    "\n",
    "if gia > 2000000:\n",
    "    if gia > 4000000:\n",
    "        gia_giam = int(gia*0.15)\n",
    "        gia_moi = int(gia*0.85)\n",
    "        print(\"Giảm giá:\", f'{gia_giam:_}'.replace(\"_\",\".\"))\n",
    "        print(\"Giá đã giảm:\", f'{gia_moi:_}'.replace(\"_\",\".\"), \"\\nCảm ơn quý khách\")\n",
    "    else:\n",
    "        gia_giam = int(gia*0.1)\n",
    "        gia_moi = int(gia*0.9)\n",
    "        print(\"Giảm giá:\", f'{gia_giam:_}'.replace(\"_\",\".\"))\n",
    "        print(\"Thanh toán\", f'{gia_moi:_}'.replace(\"_\",\".\"), \"\\nCảm ơn quý khách\") \n",
    "else:\n",
    "    print(\"Thanh toán\", f'{gia:_}'.replace(\"_\",\".\"), \"\\nCảm ơn quý khách\")"
   ]
  },
  {
   "cell_type": "code",
   "execution_count": 31,
   "id": "7ddf6a54-9b71-4eb4-9c9c-48a26759f7be",
   "metadata": {},
   "outputs": [
    {
     "name": "stdout",
     "output_type": "stream",
     "text": [
      "10.000\n"
     ]
    }
   ],
   "source": [
    "print(f'{10000:_}'.replace(\"_\",\".\"))"
   ]
  },
  {
   "cell_type": "markdown",
   "id": "ab10a1ce",
   "metadata": {},
   "source": [
    "### Bài 6\n",
    "\n",
    "Nhập vào chiều cao (cm) và cân nặng (kg), tính số BMI và xét rồi xin kết quả theo dữ liệu sau:\n",
    "\n",
    "- BMI < 16: Gầy cấp độ III\n",
    "- 16 <= BMI < 17:  Gầy cấp độ II\n",
    "- 17<= BMI < 18.5: Gầy cấp độ I\n",
    "- 18.5 <= BMI < 25: Bình thường\n",
    "- 25 <= BMI < 30: Thừa cân\n",
    "- 30 <= BMI < 35 : Béo phì cấp độ I\n",
    "- 35 <= BMI < 40: Béo phì cấp độ II\n",
    "- BMI > 40: Béo phì cấp độ III"
   ]
  },
  {
   "cell_type": "code",
   "execution_count": 37,
   "id": "1058f441",
   "metadata": {},
   "outputs": [
    {
     "name": "stdin",
     "output_type": "stream",
     "text": [
      "Nhập chiều cao (cm):  166\n",
      "Nhập cân nặng (kg):  70\n"
     ]
    },
    {
     "name": "stdout",
     "output_type": "stream",
     "text": [
      "Chỉ số BMI của bạn là: 25.402816083611555\n",
      "Tình trạng cơ thể: Thừa cân\n"
     ]
    }
   ],
   "source": [
    "chieu_cao = float(input(\"Nhập chiều cao (cm): \"))\n",
    "can_nang = float(input(\"Nhập cân nặng (kg): \"))\n",
    "\n",
    "chieu_cao = chieu_cao / 100\n",
    "\n",
    "bmi = can_nang / (chieu_cao ** 2)\n",
    "\n",
    "if bmi < 16:\n",
    "    KQ = \"Gầy cấp độ III\"\n",
    "elif bmi < 17:\n",
    "    KQ = \"Gầy cấp độ II\"\n",
    "elif bmi < 18.5:\n",
    "    KQ = \"Gầy cấp độ I\"\n",
    "elif bmi < 25:\n",
    "    KQ = \"Bình thường\"\n",
    "elif bmi < 30:\n",
    "    KQ = \"Thừa cân\"\n",
    "elif bmi < 35:\n",
    "    KQ = \"Béo phì cấp độ I\"\n",
    "elif bmi < 40:\n",
    "    KQ = \"Béo phì cấp độ II\"\n",
    "else:\n",
    "    KQ = \"Béo phì cấp độ III\"\n",
    "\n",
    "print(\"Chỉ số BMI của bạn là:\", bmi)\n",
    "print(\"Tình trạng cơ thể:\", KQ )"
   ]
  },
  {
   "cell_type": "markdown",
   "id": "f7620342",
   "metadata": {},
   "source": [
    "### Bài 7\n",
    "\n",
    "Nhập ngày, tháng, năm. Hãy tính và in ra màn hình kể từ đầu năm đến ngày vừa nhập là bao nhiêu ngày."
   ]
  },
  {
   "cell_type": "code",
   "execution_count": null,
   "id": "4c57f0a5",
   "metadata": {},
   "outputs": [],
   "source": []
  }
 ],
 "metadata": {
  "kernelspec": {
   "display_name": "Python 3 (ipykernel)",
   "language": "python",
   "name": "python3"
  },
  "language_info": {
   "codemirror_mode": {
    "name": "ipython",
    "version": 3
   },
   "file_extension": ".py",
   "mimetype": "text/x-python",
   "name": "python",
   "nbconvert_exporter": "python",
   "pygments_lexer": "ipython3",
   "version": "3.11.7"
  }
 },
 "nbformat": 4,
 "nbformat_minor": 5
}
