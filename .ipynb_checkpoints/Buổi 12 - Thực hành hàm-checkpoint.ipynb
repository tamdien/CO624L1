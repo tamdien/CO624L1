{
 "cells": [
  {
   "cell_type": "markdown",
   "id": "028ffec3",
   "metadata": {},
   "source": [
    "# Thực hành hàm\n",
    "\n",
    "### Bài 1\n",
    "\n",
    "Viết hàm có dữ liệu đầu vào là 2 số a và b, số nào lớn hơn thì in bảng cửu chương của số đó"
   ]
  },
  {
   "cell_type": "code",
   "execution_count": 2,
   "id": "1974966b",
   "metadata": {},
   "outputs": [
    {
     "name": "stdout",
     "output_type": "stream",
     "text": [
      "15 x 1 = 15\n",
      "15 x 2 = 30\n",
      "15 x 3 = 45\n",
      "15 x 4 = 60\n",
      "15 x 5 = 75\n",
      "15 x 6 = 90\n",
      "15 x 7 = 105\n",
      "15 x 8 = 120\n",
      "15 x 9 = 135\n",
      "15 x 10 = 150\n"
     ]
    }
   ],
   "source": [
    "def in_bang_cuu_chuong(a,b):\n",
    "    m = a\n",
    "    if m < b:\n",
    "        m = b\n",
    "    for i in range(1,11):\n",
    "        print(m,\"x\",i,\"=\",m*i)\n",
    "\n",
    "in_bang_cuu_chuong(15, 10)"
   ]
  },
  {
   "cell_type": "markdown",
   "id": "9de8ffaa",
   "metadata": {},
   "source": [
    "### Bài 2\n",
    "\n",
    "Viết hàm `xoachuoi` có dữ liệu đầu vào là 2 chuỗi a và b, hãy tìm trong chuỗi a có chuỗi b hay không, nếu có hãy xóa toán bộ chuỗi b trong a.\n",
    "\n",
    "Sau đó trả về chuỗi a mới\n",
    "\n",
    "Ví dụ:\n",
    "\n",
    "chuoi1 = \"xin chào các bạn, các bạn có khỏe không?\"\n",
    "\n",
    "chuoi2 = \"các bạn\"\n",
    "\n",
    "chuoi3 = xoachuoi(chuoi1,chuoi2)\n",
    "\n",
    "print(chuoi3)\n",
    "\n",
    "Kết quả in ra là:\n",
    "xin chào ,  có khỏe không"
   ]
  },
  {
   "cell_type": "code",
   "execution_count": 3,
   "id": "05de1584",
   "metadata": {},
   "outputs": [
    {
     "name": "stdout",
     "output_type": "stream",
     "text": [
      "xin chào ,  có khỏe không?\n"
     ]
    }
   ],
   "source": [
    "def xoa_chuoi(a,b):\n",
    "    return a.replace(b,\"\")\n",
    "\n",
    "chuoi1 = \"xin chào các bạn, các bạn có khỏe không?\"\n",
    "\n",
    "chuoi2 = \"các bạn\"\n",
    "\n",
    "chuoi3 = xoa_chuoi(chuoi1,chuoi2)\n",
    "\n",
    "print(chuoi3)"
   ]
  },
  {
   "cell_type": "markdown",
   "id": "d626394e",
   "metadata": {},
   "source": [
    "### Bài 3\n",
    "\n",
    "Viết hàm `kiemtramatkhau` với dữ liệu đầu vào là 1 chuỗi có công dụng như sau:\n",
    "\n",
    "Kiểm tra xem chuỗi đầu vào có phải là mật khẩu mạnh hay không, nếu có trả về True, nếu không trả về False\n",
    "\n",
    "Mật khẩu mạnh là mật khẩu phải có ít nhất 1 chữ hoa, 1 chữ thường, 1 số và 1 ký tự đặc biệt"
   ]
  },
  {
   "cell_type": "code",
   "execution_count": null,
   "id": "875d88f5",
   "metadata": {},
   "outputs": [],
   "source": [
    "def kiemtramatkhau(chuoi):\n",
    "    hoa = False\n",
    "    thuong = False\n",
    "    so = False\n",
    "    ky_tu = False\n",
    "    for i in chuoi:\n",
    "        if i.isupper():\n",
    "            hoa = True\n",
    "        elif i.islower():\n",
    "            thuong = True\n",
    "        elif i.isnumeric():\n",
    "            so = True\n",
    "        else:\n",
    "            ky_tu = True\n",
    "            \n",
    "        if hoa and thuong and so and ky_tu:\n",
    "            return True\n",
    "    return False\n",
    "\n",
    "\n",
    "kiemtramatkhau(\"abc123A\") # ~~> False\n",
    "kiemtramatkhau(\"abc123@\") # ~~> False\n",
    "kiemtramatkhau(\"A123@\") # ~~> False\n",
    "kiemtramatkhau(\"abcA@\") # ~~> False\n",
    "kiemtramatkhau(\"abcA123@asadsad\") # ~~> True"
   ]
  },
  {
   "cell_type": "markdown",
   "id": "1572568f",
   "metadata": {},
   "source": [
    "### Bài 4\n",
    "\n",
    "Viết hàm có 5 dữ liệu đầu vào là 5 số nguyên, tìm giá trị lớn nhì trong 5 số đó"
   ]
  },
  {
   "cell_type": "code",
   "execution_count": 8,
   "id": "876707ae",
   "metadata": {},
   "outputs": [
    {
     "name": "stdout",
     "output_type": "stream",
     "text": [
      "20\n"
     ]
    }
   ],
   "source": [
    "def tim_lon_nhi(a,b,c,d,e):\n",
    "    # đưa số lớn nhất lên a\n",
    "    # những số còn lại nằm ở b, c, d, e\n",
    "\n",
    "    # kiểm tra a với từng số còn lại, nếu a nhỏ hơn số đang kiểm tra thì đổi chỗ giữa a và số đó\n",
    "    if a < b:\n",
    "        a, b = b, a\n",
    "    if a < c:\n",
    "        a, c = c, a\n",
    "    if a < d:\n",
    "        a, d = d, a\n",
    "    if a < e:\n",
    "        a, e = e, a\n",
    "\n",
    "    # đưa số lớn nhất trong 4 số b, c, d, e lên b\n",
    "    if b < c:\n",
    "        b, c = c, b\n",
    "    if b < d:\n",
    "        b, d = d, b\n",
    "    if b < e:\n",
    "        b, e = e, b\n",
    "\n",
    "    return b # b là số lớn nhì\n",
    "\n",
    "print(tim_lon_nhi(100,10,6,9,20))"
   ]
  },
  {
   "cell_type": "code",
   "execution_count": 7,
   "id": "514af109-6334-4c13-9c78-18d1aea5bf64",
   "metadata": {},
   "outputs": [
    {
     "name": "stdout",
     "output_type": "stream",
     "text": [
      "9\n"
     ]
    }
   ],
   "source": [
    "def tim_lon_nhi(a,b,c,d,e):\n",
    "    # đưa số lớn nhất lên a\n",
    "    # những số còn lại nằm ở b, c, d, e\n",
    "\n",
    "    # kiểm tra a với từng số còn lại, nếu a nhỏ hơn số đang kiểm tra thì đổi chỗ giữa a và số đó\n",
    "    if a > b:\n",
    "        a, b = b, a\n",
    "    if a > c:\n",
    "        a, c = c, a\n",
    "    if a > d:\n",
    "        a, d = d, a\n",
    "    if a > e:\n",
    "        a, e = e, a\n",
    "\n",
    "    # đưa số lớn nhất trong 4 số b, c, d, e lên b\n",
    "    if b > c:\n",
    "        b, c = c, b\n",
    "    if b > d:\n",
    "        b, d = d, b\n",
    "    if b > e:\n",
    "        b, e = e, b\n",
    "\n",
    "    return b # b là số lớn nhì\n",
    "\n",
    "print(tim_lon_nhi(100,10,6,9,20))"
   ]
  },
  {
   "cell_type": "markdown",
   "id": "974d7da1",
   "metadata": {},
   "source": [
    "### Bài 5\n",
    "\n",
    "Nhập vào 2 cặp tọa độ tâm đường tròn và 2 bán kính R\n",
    "\n",
    "Hãy vẽ 2 hình tròn theo tọa độ và bán kính trên (tọa độ thứ nhất và bán kính thứ nhất là hình tròn thứ nhất, tọa độ thứ 2 với bán kính thứ 2 là hình tròn thứ hai)\n",
    "\n",
    "Viết hàm kiểm tra xem 2 hình tròn trên cắt nhau bao nhiêu điểm"
   ]
  },
  {
   "cell_type": "code",
   "execution_count": null,
   "id": "f7722021",
   "metadata": {},
   "outputs": [],
   "source": []
  },
  {
   "cell_type": "markdown",
   "id": "a2157de8",
   "metadata": {},
   "source": [
    "### Bài 6\n",
    "\n",
    "Nhập vào 2 tọa độ là 2 đỉnh của một hình chữ nhật\n",
    "\n",
    "Sau đó\n",
    "\n",
    "Nhập vào tọa độ tâm đường tròn và bán kính R\n",
    "\n",
    "Hãy vẽ hình hình chữ nhật và đường tròn trên\n",
    "\n",
    "Viết hàm kiểm tra xem đường tròn trên và hình chữ nhật cắt nhau tại bao nhiêu điểm"
   ]
  },
  {
   "cell_type": "code",
   "execution_count": null,
   "id": "e0d7b1a2",
   "metadata": {},
   "outputs": [],
   "source": []
  },
  {
   "cell_type": "markdown",
   "id": "d1491579",
   "metadata": {},
   "source": [
    "### Bài 7\n",
    "\n",
    "Viết hàm kiểm tra số nguyên tố\n",
    "\n",
    "Viết hàm kiểm tra số hoàn hảo\n",
    "\n",
    "Viết hàm kiểm tra số chính phương\n",
    "\n",
    "Viết hàm kiểm tra số Armstrong\n",
    "\n",
    "Nhập vào một chuỗi, hãy lọc và tìm ra những số ở trong chuỗi (2 chữ số liền nhau là một số)\n",
    "\n",
    "Ví dụ chuỗi: \"AB25SDc5DSjjh52\"\n",
    "\n",
    "Trong chuỗi này ta có 3 số: 25, 5 và 52\n",
    "\n",
    "Sau khi lọc số, dùng các hàm trên để kiểm tra và thực hiện như sau:\n",
    "\n",
    "Cho biến S\n",
    "\n",
    "- Nếu số đó là số nguyên tố, ta thực hiện S += số đó\n",
    "- Nếu số đó là số hoàn hảo, ta thực hiện S -= số đó\n",
    "- Nếu số đó là số chính phương, ta thực hiện S /= số đó\n",
    "- Nếu đó là số Armstrong ta cho S = 0\n",
    "\n",
    "Hãy tính và in S"
   ]
  },
  {
   "cell_type": "code",
   "execution_count": null,
   "id": "0b699e33",
   "metadata": {},
   "outputs": [],
   "source": []
  }
 ],
 "metadata": {
  "kernelspec": {
   "display_name": "Python 3 (ipykernel)",
   "language": "python",
   "name": "python3"
  },
  "language_info": {
   "codemirror_mode": {
    "name": "ipython",
    "version": 3
   },
   "file_extension": ".py",
   "mimetype": "text/x-python",
   "name": "python",
   "nbconvert_exporter": "python",
   "pygments_lexer": "ipython3",
   "version": "3.11.7"
  }
 },
 "nbformat": 4,
 "nbformat_minor": 5
}
