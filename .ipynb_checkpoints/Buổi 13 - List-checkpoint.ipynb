{
 "cells": [
  {
   "cell_type": "markdown",
   "id": "fad0ff18",
   "metadata": {},
   "source": [
    "# List\n",
    "\n",
    "### Đặt vấn đề\n",
    "\n",
    "Nếu như ta có một lượng dữ liệu không biết trước được số lượng cần lưu vào biến, ta không thể lưu bằng cách thông thường\n",
    "\n",
    "Lấy ví dụ:\n",
    "\n",
    "Nhập vào số n, sau đó nhập tiếp n số và lưu trữ n số đó vào biến\n",
    "\n",
    "Vậy ta hoàn toàn không biết được người dùng sẽ nhập bao nhiêu số để lưu trữ\n",
    "\n",
    "Lúc này ta cần đến List\n",
    "\n",
    "List giúp chúng ta lưu nhiều giá trị cùng 1 lúc, nhưng chỉ cần đặt tên cho nó lần\n",
    "\n",
    "##### Tài liệu tham khảo: https://www.w3schools.com/python/python_lists.asp"
   ]
  },
  {
   "cell_type": "markdown",
   "id": "4ca9e91e",
   "metadata": {},
   "source": [
    "### Cách thức khai báo List\n",
    "\n",
    "Cú pháp:\n",
    "\n",
    "`<tên list> = []`\n",
    "\n",
    "##### List được khai báo bằng 2 dấu ngoặc vuông\n",
    "\n",
    "<b> Ví dụ 1: </b>\n",
    "\n",
    "`a = []`\n",
    "\n",
    "a là một list, không có bất kỳ phần tử nào trong đó\n",
    "\n",
    "<b> Ví dụ 2: </b>\n",
    "\n",
    "`b = [1,2,3]`\n",
    "\n",
    "##### Các phần tử trong list được khai báo, mỗi phần tử cách nhau một dấu phẩy\n",
    "\n",
    "b là một list có 3 phần tử\n",
    "\n",
    "<b> Ví dụ 3: </b>\n",
    "\n",
    "`c = [\"abc\",5,1.5]`\n",
    "\n",
    "##### Các phần tử trong list có thể có những kiểu dữ liệu khác nhau\n",
    "\n",
    "c là một list có 3 phần tử, phần tử thứ nhất có kiểu dữ liệu là chuỗi, phần tử thứ hai có kiểu dữ liệu là số nguyên và phần tử cuối cùng có kiểu dữ liệu là số thực\n",
    "\n",
    "<b> Hãy khai báo một list xong rồi in list đó lên màn hình </b>"
   ]
  },
  {
   "cell_type": "code",
   "execution_count": 1,
   "id": "c2f37351",
   "metadata": {},
   "outputs": [
    {
     "name": "stdout",
     "output_type": "stream",
     "text": [
      "['hello', 'các bạn']\n"
     ]
    }
   ],
   "source": [
    "L_a = [\"hello\",\"các bạn\"]\n",
    "\n",
    "print(L_a)"
   ]
  },
  {
   "cell_type": "code",
   "execution_count": 2,
   "id": "84fc3890-325b-4756-808f-5b1eda2dad66",
   "metadata": {},
   "outputs": [
    {
     "name": "stdout",
     "output_type": "stream",
     "text": [
      "[1, 2, 3, 4]\n"
     ]
    }
   ],
   "source": [
    "L_a = [1,2,3,4]\n",
    "print(L_a)"
   ]
  },
  {
   "cell_type": "markdown",
   "id": "be8e19b0",
   "metadata": {},
   "source": [
    "### Truy xuất phần tử trong List\n",
    "\n",
    "Giống như chuỗi, các phần tử trong list được truy xuất theo cú pháp:\n",
    "\n",
    "<code>\\<tên list\\>[\\<vị trí của phần tử\\>]</code>\n",
    "\n",
    "<b> Ví dụ 1: </b>\n",
    "\n",
    "```a = [1,4,6]\n",
    "print(a[1])\n",
    "```\n",
    "\n",
    "Màn hình sẽ in ra 4\n",
    "\n",
    "<b> Hãy khai báo một list có một chuỗi và một số rồi in chuỗi trong list đó ra màn hình </b>"
   ]
  },
  {
   "cell_type": "code",
   "execution_count": 4,
   "id": "bb3f9141",
   "metadata": {},
   "outputs": [
    {
     "name": "stdout",
     "output_type": "stream",
     "text": [
      "hello\n"
     ]
    }
   ],
   "source": [
    "L_product = [\"hello\",\"các bạn\"]\n",
    "\n",
    "print(L_product[0])"
   ]
  },
  {
   "cell_type": "code",
   "execution_count": 5,
   "id": "0fc4d025-1cc8-4fd1-8d16-8d16c09e11e3",
   "metadata": {},
   "outputs": [
    {
     "name": "stdout",
     "output_type": "stream",
     "text": [
      "các bạn\n"
     ]
    }
   ],
   "source": [
    "L_product = [\"hello\",\"các bạn\"]\n",
    "\n",
    "print(L_product[-1])"
   ]
  },
  {
   "cell_type": "code",
   "execution_count": 6,
   "id": "ff69eb65-b1b0-4bda-b362-2b4cab7c15ce",
   "metadata": {},
   "outputs": [
    {
     "ename": "IndexError",
     "evalue": "list index out of range",
     "output_type": "error",
     "traceback": [
      "\u001b[1;31m---------------------------------------------------------------------------\u001b[0m",
      "\u001b[1;31mIndexError\u001b[0m                                Traceback (most recent call last)",
      "Cell \u001b[1;32mIn[6], line 3\u001b[0m\n\u001b[0;32m      1\u001b[0m L_product \u001b[38;5;241m=\u001b[39m [\u001b[38;5;124m\"\u001b[39m\u001b[38;5;124mhello\u001b[39m\u001b[38;5;124m\"\u001b[39m,\u001b[38;5;124m\"\u001b[39m\u001b[38;5;124mcác bạn\u001b[39m\u001b[38;5;124m\"\u001b[39m]\n\u001b[1;32m----> 3\u001b[0m \u001b[38;5;28mprint\u001b[39m(\u001b[43mL_product\u001b[49m\u001b[43m[\u001b[49m\u001b[38;5;241;43m2\u001b[39;49m\u001b[43m]\u001b[49m)\n",
      "\u001b[1;31mIndexError\u001b[0m: list index out of range"
     ]
    }
   ],
   "source": [
    "L_product = [\"hello\",\"các bạn\"]\n",
    "\n",
    "print(L_product[2])"
   ]
  },
  {
   "cell_type": "code",
   "execution_count": 8,
   "id": "35eac692-f901-49d6-9214-62736a6ee872",
   "metadata": {},
   "outputs": [
    {
     "name": "stdout",
     "output_type": "stream",
     "text": [
      "True\n"
     ]
    }
   ],
   "source": [
    "# cho một L_a, hãy kiểm tra xem 2 phần tử cuối cùng của L_a có phải là 1 và 2 hay không, nếu có in True, nếu không thì in False\n",
    "L_a = [309,5,3,4,1,2]\n",
    "\n",
    "if L_a[-2] == 1 and L_a[-1] == 2:\n",
    "    print(True)\n",
    "else:\n",
    "    print (False)"
   ]
  },
  {
   "cell_type": "code",
   "execution_count": 10,
   "id": "f483286a-aa9c-4395-ba5e-5f694de95d23",
   "metadata": {},
   "outputs": [
    {
     "name": "stdout",
     "output_type": "stream",
     "text": [
      "True\n"
     ]
    }
   ],
   "source": [
    "L_a = [309,5,3,4,1,2]\n",
    "\n",
    "L_b = L_a[-2:]\n",
    "\n",
    "if L_b == [1,2]:\n",
    "    print(True)\n",
    "else:\n",
    "    print(False)"
   ]
  },
  {
   "cell_type": "code",
   "execution_count": 11,
   "id": "905ebf61-aaca-4f42-ba82-dab40101c1ca",
   "metadata": {},
   "outputs": [
    {
     "name": "stdout",
     "output_type": "stream",
     "text": [
      "['hello']\n"
     ]
    }
   ],
   "source": [
    "L_a = [\"hello\",\"mọi\",\"người\"]\n",
    "\n",
    "L_b = L_a[:1]\n",
    "\n",
    "print(L_b)"
   ]
  },
  {
   "cell_type": "code",
   "execution_count": 12,
   "id": "27a2df5d-5f3e-47f3-a964-9fe3475b5fc8",
   "metadata": {},
   "outputs": [
    {
     "name": "stdout",
     "output_type": "stream",
     "text": [
      "a\n"
     ]
    }
   ],
   "source": [
    "chuoi = \"abcd\"\n",
    "\n",
    "chuoi_a = chuoi[:1]\n",
    "\n",
    "print(chuoi_a)"
   ]
  },
  {
   "cell_type": "code",
   "execution_count": 14,
   "id": "68de401c-0691-49d2-9e83-690f110a0d74",
   "metadata": {},
   "outputs": [
    {
     "name": "stdout",
     "output_type": "stream",
     "text": [
      "['người', 'mọi', 'hello']\n"
     ]
    }
   ],
   "source": [
    "L_a = [\"hello\",\"mọi\",\"người\"]\n",
    "\n",
    "L_b = L_a[::-1]\n",
    "\n",
    "print(L_b)"
   ]
  },
  {
   "cell_type": "code",
   "execution_count": 16,
   "id": "5e1f28b5-4a86-4d85-9e99-dec6b4936bad",
   "metadata": {},
   "outputs": [
    {
     "name": "stdout",
     "output_type": "stream",
     "text": [
      "abcd\n"
     ]
    }
   ],
   "source": [
    "chuoi = \"abcd\"\n",
    "\n",
    "chuoi_a = chuoi\n",
    "print(chuoi_a)"
   ]
  },
  {
   "cell_type": "code",
   "execution_count": 18,
   "id": "b6f80e66-f3fb-401b-b8d5-42ce4abcb575",
   "metadata": {},
   "outputs": [
    {
     "name": "stdout",
     "output_type": "stream",
     "text": [
      "['hello', 'mọi', 'người']\n"
     ]
    }
   ],
   "source": [
    "L_a = [\"hello\",\"mọi\",\"người\"]\n",
    "\n",
    "L_b = L_a\n",
    "print(L_b)"
   ]
  },
  {
   "cell_type": "markdown",
   "id": "ad61e236",
   "metadata": {},
   "source": [
    "### Thêm phần tử vào List\n",
    "\n",
    "Cú pháp:\n",
    "\n",
    "<code>\\<tên list\\>.append()</code>\n",
    "\n",
    "<b>Ví dụ:</b>\n",
    "\n",
    "```\n",
    "a = []\n",
    "a.append(5)\n",
    "```\n",
    "\n",
    "a sẽ có 1 phần tử là 5\n",
    "\n",
    "<b> Hãy khai báo một list rỗng, rồi thêm 2 phần tử bất kỳ vào list đó, sau đó in list đó ra</b>"
   ]
  },
  {
   "cell_type": "code",
   "execution_count": 19,
   "id": "5823ddca",
   "metadata": {},
   "outputs": [
    {
     "name": "stdout",
     "output_type": "stream",
     "text": [
      "[5]\n"
     ]
    }
   ],
   "source": [
    "L_a = []\n",
    "L_a.append(5)\n",
    "\n",
    "print(L_a)"
   ]
  },
  {
   "cell_type": "code",
   "execution_count": 20,
   "id": "7f66bd76-a024-49c5-a793-d46ed0f25208",
   "metadata": {},
   "outputs": [
    {
     "name": "stdout",
     "output_type": "stream",
     "text": [
      "['hello']\n"
     ]
    }
   ],
   "source": [
    "L_a = []\n",
    "L_a.append(\"hello\")\n",
    "\n",
    "print(L_a)"
   ]
  },
  {
   "cell_type": "code",
   "execution_count": 24,
   "id": "a0bda66d-7c11-4e88-9cdb-0e5e694092d5",
   "metadata": {},
   "outputs": [
    {
     "name": "stdout",
     "output_type": "stream",
     "text": [
      "[1, 2]\n"
     ]
    }
   ],
   "source": [
    "# cho L_a = [], hãy thêm vào list_a 2 phần tử là 1 và 2\n",
    "\n",
    "L_a = []\n",
    "L_a.append(1)\n",
    "L_a.append(2)\n",
    "\n",
    "print(L_a)"
   ]
  },
  {
   "cell_type": "code",
   "execution_count": 25,
   "id": "17281e1d-7725-4b52-9593-ba2ca4364408",
   "metadata": {},
   "outputs": [
    {
     "name": "stdin",
     "output_type": "stream",
     "text": [
      "Nhập vào số nguyên thứ 1: 7\n",
      "Nhập vào số nguyên thứ 2: 5\n",
      "Nhập vào số nguyên thứ 3: 2\n",
      "Nhập vào số nguyên thứ 4: -4\n",
      "Nhập vào số nguyên thứ 5: 5\n"
     ]
    },
    {
     "name": "stdout",
     "output_type": "stream",
     "text": [
      "[7, 5, 2, -4, 5]\n"
     ]
    }
   ],
   "source": [
    "# cho một L_a = []\n",
    "# Hãy nhập vào 5 số nguyên, và thêm 5 số đó vào trong L_a\n",
    "# in L_a ra màn hình\n",
    "\n",
    "L_a = []\n",
    "\n",
    "for i in range(5):\n",
    "    so = int(input(\"Nhập vào số nguyên thứ \" + str(i+1) + \":\"))\n",
    "    L_a.append(so)\n",
    "\n",
    "print(L_a)"
   ]
  },
  {
   "cell_type": "markdown",
   "id": "8c92d3d3",
   "metadata": {},
   "source": [
    "### Thay đổi giá trị của List\n",
    "\n",
    "Cú pháp:\n",
    "\n",
    "`<tên list>[<vị trí của phần tử>] = <giá trị mới>`\n",
    "\n",
    "<b> Hãy khai báo một list bất kỳ, rồi thay đổi 1 phần tử trong nó, sau đó in list đó ra</b>"
   ]
  },
  {
   "cell_type": "code",
   "execution_count": 26,
   "id": "13c61075",
   "metadata": {},
   "outputs": [
    {
     "name": "stdout",
     "output_type": "stream",
     "text": [
      "[7, 10, 2, -4, 5]\n"
     ]
    }
   ],
   "source": [
    "L_a = [7, 5, 2, -4, 5]\n",
    "\n",
    "L_a[1] = 10\n",
    "\n",
    "print(L_a)"
   ]
  },
  {
   "cell_type": "code",
   "execution_count": 27,
   "id": "8b27153e-e3af-4b1a-a57a-8715172a5b62",
   "metadata": {},
   "outputs": [
    {
     "ename": "TypeError",
     "evalue": "'str' object does not support item assignment",
     "output_type": "error",
     "traceback": [
      "\u001b[1;31m---------------------------------------------------------------------------\u001b[0m",
      "\u001b[1;31mTypeError\u001b[0m                                 Traceback (most recent call last)",
      "Cell \u001b[1;32mIn[27], line 3\u001b[0m\n\u001b[0;32m      1\u001b[0m chuoi \u001b[38;5;241m=\u001b[39m \u001b[38;5;124m\"\u001b[39m\u001b[38;5;124mabcde\u001b[39m\u001b[38;5;124m\"\u001b[39m\n\u001b[1;32m----> 3\u001b[0m \u001b[43mchuoi\u001b[49m\u001b[43m[\u001b[49m\u001b[38;5;241;43m1\u001b[39;49m\u001b[43m]\u001b[49m \u001b[38;5;241m=\u001b[39m \u001b[38;5;124m\"\u001b[39m\u001b[38;5;124mf\u001b[39m\u001b[38;5;124m\"\u001b[39m\n\u001b[0;32m      5\u001b[0m \u001b[38;5;28mprint\u001b[39m(chuoi)\n",
      "\u001b[1;31mTypeError\u001b[0m: 'str' object does not support item assignment"
     ]
    }
   ],
   "source": [
    "chuoi = \"abcde\"\n",
    "\n",
    "chuoi[1] = \"f\"\n",
    "\n",
    "print(chuoi)"
   ]
  },
  {
   "cell_type": "code",
   "execution_count": 28,
   "id": "db724a2b-90e0-4e9e-a075-607795b47186",
   "metadata": {},
   "outputs": [
    {
     "name": "stdout",
     "output_type": "stream",
     "text": [
      "[7, 4, 3, 15, 10]\n"
     ]
    }
   ],
   "source": [
    "L_a = [7,4,3,\"hello\",10]\n",
    "\n",
    "L_a[-2] = 15\n",
    "\n",
    "print(L_a)"
   ]
  },
  {
   "cell_type": "markdown",
   "id": "ce14eefe",
   "metadata": {},
   "source": [
    "### Xóa 1 phần tử trong list\n",
    "\n",
    "#### Lệnh remove()\n",
    "\n",
    "Cú pháp:\n",
    "\n",
    "`<tên list>.remove(<giá trị cần xóa>)`\n",
    "\n",
    "<b>Ví dụ:</b>\n",
    "\n",
    "```\n",
    "a = [\"hi\",3,\"hello\",4]\n",
    "a.remove(\"hi\")\n",
    "```\n",
    "\n",
    "Sau khi thực hiện lệnh trên, a chỉ còn [3,\"hello\",4]\n",
    "\n",
    "<b> Hãy khai báo một list bất kỳ, rồi xóa 1 phần tử trong nó bằng lệnh remove(), sau đó in list đó ra</b>"
   ]
  },
  {
   "cell_type": "code",
   "execution_count": 29,
   "id": "f79402ad",
   "metadata": {},
   "outputs": [
    {
     "name": "stdout",
     "output_type": "stream",
     "text": [
      "[3, 'hello', 4]\n"
     ]
    }
   ],
   "source": [
    "L_a = [\"hi\",3,\"hello\",4]\n",
    "L_a.remove(\"hi\")\n",
    "\n",
    "print(L_a)"
   ]
  },
  {
   "cell_type": "code",
   "execution_count": 31,
   "id": "a020abae-c285-4c15-8c7e-72ce2b2b4811",
   "metadata": {},
   "outputs": [
    {
     "ename": "ValueError",
     "evalue": "list.remove(x): x not in list",
     "output_type": "error",
     "traceback": [
      "\u001b[1;31m---------------------------------------------------------------------------\u001b[0m",
      "\u001b[1;31mValueError\u001b[0m                                Traceback (most recent call last)",
      "Cell \u001b[1;32mIn[31], line 2\u001b[0m\n\u001b[0;32m      1\u001b[0m L_a \u001b[38;5;241m=\u001b[39m [\u001b[38;5;124m\"\u001b[39m\u001b[38;5;124mhi\u001b[39m\u001b[38;5;124m\"\u001b[39m,\u001b[38;5;241m3\u001b[39m,\u001b[38;5;124m\"\u001b[39m\u001b[38;5;124mhello\u001b[39m\u001b[38;5;124m\"\u001b[39m,\u001b[38;5;241m4\u001b[39m]\n\u001b[1;32m----> 2\u001b[0m \u001b[43mL_a\u001b[49m\u001b[38;5;241;43m.\u001b[39;49m\u001b[43mremove\u001b[49m\u001b[43m(\u001b[49m\u001b[38;5;124;43m\"\u001b[39;49m\u001b[38;5;124;43mxin chào\u001b[39;49m\u001b[38;5;124;43m\"\u001b[39;49m\u001b[43m)\u001b[49m\n\u001b[0;32m      4\u001b[0m \u001b[38;5;28mprint\u001b[39m(L_a)\n",
      "\u001b[1;31mValueError\u001b[0m: list.remove(x): x not in list"
     ]
    }
   ],
   "source": [
    "L_a = [\"hi\",3,\"hello\",4]\n",
    "L_a.remove(\"xin chào\")\n",
    "\n",
    "print(L_a)"
   ]
  },
  {
   "cell_type": "code",
   "execution_count": 32,
   "id": "e4a47fa0-174d-4ef6-9d17-1e8bb06a5cb8",
   "metadata": {},
   "outputs": [
    {
     "ename": "ValueError",
     "evalue": "list.remove(x): x not in list",
     "output_type": "error",
     "traceback": [
      "\u001b[1;31m---------------------------------------------------------------------------\u001b[0m",
      "\u001b[1;31mValueError\u001b[0m                                Traceback (most recent call last)",
      "Cell \u001b[1;32mIn[32], line 2\u001b[0m\n\u001b[0;32m      1\u001b[0m L_a \u001b[38;5;241m=\u001b[39m [\u001b[38;5;124m\"\u001b[39m\u001b[38;5;124mhi\u001b[39m\u001b[38;5;124m\"\u001b[39m,\u001b[38;5;241m3\u001b[39m,\u001b[38;5;124m\"\u001b[39m\u001b[38;5;124mhello\u001b[39m\u001b[38;5;124m\"\u001b[39m,\u001b[38;5;241m4\u001b[39m]\n\u001b[1;32m----> 2\u001b[0m \u001b[43mL_a\u001b[49m\u001b[38;5;241;43m.\u001b[39;49m\u001b[43mremove\u001b[49m\u001b[43m(\u001b[49m\u001b[38;5;124;43m\"\u001b[39;49m\u001b[38;5;124;43m3\u001b[39;49m\u001b[38;5;124;43m\"\u001b[39;49m\u001b[43m)\u001b[49m\n\u001b[0;32m      4\u001b[0m \u001b[38;5;28mprint\u001b[39m(L_a)\n",
      "\u001b[1;31mValueError\u001b[0m: list.remove(x): x not in list"
     ]
    }
   ],
   "source": [
    "L_a = [\"hi\",3,\"hello\",4]\n",
    "L_a.remove(\"3\")\n",
    "\n",
    "print(L_a)"
   ]
  },
  {
   "cell_type": "code",
   "execution_count": 37,
   "id": "8cfa6861-ad17-40b3-9875-9ae0b2381848",
   "metadata": {},
   "outputs": [
    {
     "name": "stdout",
     "output_type": "stream",
     "text": [
      "['hi', 3, 4]\n"
     ]
    }
   ],
   "source": [
    "L_a = [\"hi\",3,\"hello\",4,\"hello\"]\n",
    "L_a.remove(\"hello\")\n",
    "L_a.remove(\"hello\")\n",
    "\n",
    "print(L_a)"
   ]
  },
  {
   "cell_type": "code",
   "execution_count": 39,
   "id": "340dd762-f17a-4d2b-bcc2-cd7a72abc1b9",
   "metadata": {},
   "outputs": [
    {
     "name": "stdout",
     "output_type": "stream",
     "text": [
      "['hi', 3, 4]\n"
     ]
    }
   ],
   "source": [
    "L_a = [\"hi\",3,4]\n",
    "\n",
    "if \"hello\" in L_a:\n",
    "    L_a.remove(\"hello\")\n",
    "\n",
    "print(L_a)"
   ]
  },
  {
   "cell_type": "code",
   "execution_count": 40,
   "id": "a23bb6ca-3848-4529-aa5b-190dc0098a9c",
   "metadata": {},
   "outputs": [
    {
     "name": "stdout",
     "output_type": "stream",
     "text": [
      "[4, 5]\n"
     ]
    }
   ],
   "source": [
    "# cho L_a là một list bất kỳ\n",
    "# Hãy xoá toàn bộ chuỗi hello bên trong L_a\n",
    "L_a = [\"hello\",\"hello\",\"hello\",4,5,\"hello\"]\n",
    "\n",
    "while \"hello\" in L_a:\n",
    "    L_a.remove(\"hello\")\n",
    "\n",
    "print(L_a)"
   ]
  },
  {
   "cell_type": "markdown",
   "id": "ec66c5cc",
   "metadata": {},
   "source": [
    "#### Lệnh pop()\n",
    "\n",
    "Cú pháp:\n",
    "\n",
    "`<tên list>.pop(<vị trí cần xóa>)`\n",
    "\n",
    "<b>Ví dụ:</b>\n",
    "\n",
    "```\n",
    "a = [\"hi\",3,\"hello\",4]\n",
    "a.pop(3)\n",
    "```\n",
    "\n",
    "Sau khi thực hiện lệnh trên, a chỉ còn [\"hi\",3,\"hello\"]\n",
    "\n",
    "<b> Hãy khai báo một list bất kỳ, rồi xóa 1 phần tử trong nó bằng lệnh pop(), sau đó in list đó ra</b>"
   ]
  },
  {
   "cell_type": "code",
   "execution_count": 46,
   "id": "eeaa0766",
   "metadata": {},
   "outputs": [
    {
     "name": "stdout",
     "output_type": "stream",
     "text": [
      "['hi']\n"
     ]
    }
   ],
   "source": [
    "L_a = [\"hi\",3,\"hello\",4]\n",
    "L_a.pop(1)\n",
    "# [\"hi\",\"hello\",4]\n",
    "L_a.pop(1)\n",
    "# [\"hi\",4]\n",
    "L_a.pop(1)\n",
    "# [\"hi\"]\n",
    "\n",
    "print(L_a)"
   ]
  },
  {
   "cell_type": "code",
   "execution_count": 45,
   "id": "1b96dd33-11e6-4641-ad2f-0b439389b278",
   "metadata": {},
   "outputs": [
    {
     "name": "stdout",
     "output_type": "stream",
     "text": [
      "['hi']\n"
     ]
    }
   ],
   "source": [
    "L_a = [\"hi\",3,\"hello\",4]\n",
    "L_a.pop()\n",
    "L_a.pop()\n",
    "\n",
    "print(L_a)"
   ]
  },
  {
   "cell_type": "code",
   "execution_count": 47,
   "id": "a9a5b043-1fec-44b6-bd8a-fdc1f00201a0",
   "metadata": {},
   "outputs": [
    {
     "ename": "IndexError",
     "evalue": "pop index out of range",
     "output_type": "error",
     "traceback": [
      "\u001b[1;31m---------------------------------------------------------------------------\u001b[0m",
      "\u001b[1;31mIndexError\u001b[0m                                Traceback (most recent call last)",
      "Cell \u001b[1;32mIn[47], line 2\u001b[0m\n\u001b[0;32m      1\u001b[0m L_a \u001b[38;5;241m=\u001b[39m [\u001b[38;5;124m\"\u001b[39m\u001b[38;5;124mhi\u001b[39m\u001b[38;5;124m\"\u001b[39m,\u001b[38;5;241m3\u001b[39m,\u001b[38;5;124m\"\u001b[39m\u001b[38;5;124mhello\u001b[39m\u001b[38;5;124m\"\u001b[39m,\u001b[38;5;241m4\u001b[39m]\n\u001b[1;32m----> 2\u001b[0m \u001b[43mL_a\u001b[49m\u001b[38;5;241;43m.\u001b[39;49m\u001b[43mpop\u001b[49m\u001b[43m(\u001b[49m\u001b[38;5;241;43m4\u001b[39;49m\u001b[43m)\u001b[49m\n\u001b[0;32m      4\u001b[0m \u001b[38;5;28mprint\u001b[39m(L_a)\n",
      "\u001b[1;31mIndexError\u001b[0m: pop index out of range"
     ]
    }
   ],
   "source": [
    "L_a = [\"hi\",3,\"hello\",4]\n",
    "L_a.pop(4)\n",
    "\n",
    "print(L_a)"
   ]
  },
  {
   "cell_type": "markdown",
   "id": "96daac1c",
   "metadata": {},
   "source": [
    "### Sao chép list\n",
    "\n",
    "###### Lưu ý: Nếu ta có list a, ta thực hiện lệnh b = a, list b sẽ bị ảnh hưởng khi list a có sự thay đổi\n",
    "\n",
    "<b> Ví dụ: </b>\n",
    "\n",
    "```\n",
    "a = [5,7,1]\n",
    "b = a\n",
    "a.remove(5)\n",
    "```\n",
    "\n",
    "Khi thực hiện 3 lệnh trên, b sẽ bằng [7,1], dù cho ta thực hiện lệnh `b = a` trước `a.remove(5)`\n",
    "\n",
    "<b> Kiểm chứng sự ảnh hưởng khi gán list </b>"
   ]
  },
  {
   "cell_type": "code",
   "execution_count": 49,
   "id": "1dbdf54b",
   "metadata": {},
   "outputs": [
    {
     "name": "stdout",
     "output_type": "stream",
     "text": [
      "[5, 7, 1, 10]\n",
      "[5, 7, 1, 10]\n"
     ]
    }
   ],
   "source": [
    "L_a = [5,7,1]\n",
    "L_b = L_a\n",
    "\n",
    "L_a.append(10)\n",
    "print(L_a)\n",
    "print(L_b)"
   ]
  },
  {
   "cell_type": "markdown",
   "id": "c9c51aad",
   "metadata": {},
   "source": [
    "### Lệnh copy()\n",
    "\n",
    "Cú pháp:\n",
    "\n",
    "`<tên list>.copy()`\n",
    "\n",
    "##### Dùng lệnh copy sẽ khắc phục được vấn đề gán list a cho b\n",
    "\n",
    "<b> Ví dụ: </b>\n",
    "\n",
    "```\n",
    "a = [5,7,1]\n",
    "b = a.copy()\n",
    "a.remove(5)\n",
    "```\n",
    "\n",
    "Khi thực hiện 3 lệnh trên, b vẫn sẽ bằng [5,7,1]\n",
    "\n",
    "Lúc này, b sẽ là một list mới độc lập hoàn toàn với a\n",
    "\n",
    "<b> Khai báo list a, dùng lệnh copy cho list b, rồi thêm phần tử vào list a, sau đó in cả 2 list lên màn hình</b>"
   ]
  },
  {
   "cell_type": "code",
   "execution_count": 58,
   "id": "46759662",
   "metadata": {},
   "outputs": [
    {
     "name": "stdout",
     "output_type": "stream",
     "text": [
      "[7, 1, 10]\n",
      "[5, 7, 1]\n"
     ]
    }
   ],
   "source": [
    "L_a = [5,7,1]\n",
    "L_b = L_a.copy()\n",
    "\n",
    "L_a.append(10)\n",
    "L_a.remove(5)\n",
    "print(L_a)\n",
    "print(L_b)"
   ]
  },
  {
   "cell_type": "code",
   "execution_count": 57,
   "id": "8caa1893-7788-47a9-9176-95b7a7b8ff0f",
   "metadata": {},
   "outputs": [
    {
     "name": "stdout",
     "output_type": "stream",
     "text": [
      "[7, 1, 10]\n",
      "[5, 7, 1]\n"
     ]
    }
   ],
   "source": [
    "L_a = [5,7,1]\n",
    "L_b = L_a[:]\n",
    "\n",
    "L_a.append(10)\n",
    "L_a.remove(5)\n",
    "print(L_a)\n",
    "print(L_b)"
   ]
  },
  {
   "cell_type": "markdown",
   "id": "d8f470e0",
   "metadata": {},
   "source": [
    "### Lệnh len()\n",
    "\n",
    "Tương tự như chuỗi, ta có thể dùng lệnh len cho list để trả về số lượng của list\n",
    "\n",
    "<b> Ví dụ:</b>\n",
    "\n",
    "```\n",
    "a = [3,\"Hello\",5,\"hi\"]\n",
    "b = len(a)\n",
    "```\n",
    "\n",
    "Giá trị của b là 4\n",
    "\n",
    "<b> Khai báo list a, in lên độ dài của list a </b>"
   ]
  },
  {
   "cell_type": "code",
   "execution_count": 59,
   "id": "dfbcf0db",
   "metadata": {},
   "outputs": [
    {
     "name": "stdout",
     "output_type": "stream",
     "text": [
      "4\n"
     ]
    }
   ],
   "source": [
    "L_a = [3,\"Hello\",5,\"hi\"]\n",
    "b = len(L_a)\n",
    "\n",
    "print(b)"
   ]
  },
  {
   "cell_type": "code",
   "execution_count": 61,
   "id": "eb3ecdc2-8cfd-4c9a-b1b1-04e6debac5a9",
   "metadata": {},
   "outputs": [
    {
     "name": "stdin",
     "output_type": "stream",
     "text": [
      "Nhập vào số: 8\n",
      "Nhập vào số: 10\n",
      "Nhập vào số: 12\n",
      "Nhập vào số: 5\n",
      "Nhập vào số: 9\n",
      "Nhập vào số: 2\n",
      "Nhập vào số: 4\n",
      "Nhập vào số: 10\n",
      "Nhập vào số: 2\n",
      "Nhập vào số: 14\n",
      "Nhập vào số: 10\n",
      "Nhập vào số: 20\n"
     ]
    },
    {
     "name": "stdout",
     "output_type": "stream",
     "text": [
      "[8, 10, 12, 2, 4, 10, 2, 14, 10, 20]\n"
     ]
    }
   ],
   "source": [
    "# Cho L_a = []\n",
    "# Nhập vào các số nguyên, nếu số đó chia hết cho 2 thì đưa vào bên trong list\n",
    "# Khi list đủ 10 phần tử thì ngưng nhập\n",
    "# in L_a\n",
    "L_a = []\n",
    "\n",
    "while len(L_a) < 10:\n",
    "    so = int(input(\"Nhập vào số:\"))\n",
    "    if so % 2 == 0:\n",
    "        L_a.append(so)\n",
    "\n",
    "print(L_a)"
   ]
  },
  {
   "cell_type": "markdown",
   "id": "8ac29b78",
   "metadata": {},
   "source": [
    "### Duyệt list bằng lệnh for\n",
    "\n",
    "<b> Duyệt list với vị trí </b>"
   ]
  },
  {
   "cell_type": "code",
   "execution_count": 63,
   "id": "1be33622",
   "metadata": {},
   "outputs": [
    {
     "name": "stdout",
     "output_type": "stream",
     "text": [
      "0 8\n",
      "1 10\n",
      "2 12\n",
      "3 2\n",
      "4 4\n",
      "5 10\n",
      "6 2\n",
      "7 14\n",
      "8 10\n",
      "9 20\n"
     ]
    }
   ],
   "source": [
    "L_a = [8, 10, 12, 2, 4, 10, 2, 14, 10, 20]\n",
    "\n",
    "for i in range(len(L_a)):\n",
    "    print(i,L_a[i])"
   ]
  },
  {
   "cell_type": "code",
   "execution_count": 67,
   "id": "8b65555d-afbf-4e9d-8e2d-5ae0948d2bba",
   "metadata": {},
   "outputs": [
    {
     "name": "stdout",
     "output_type": "stream",
     "text": [
      "2\n"
     ]
    }
   ],
   "source": [
    "# cho một L_a có các giá trị là số nguyên dương, hãy tìm và in vị trí của số chia hết cho 3 đầu tiên\n",
    "L_a = [8, 10, 9, 2, 4, 10, 2, 18, 10, 20]\n",
    "\n",
    "for i in range(len(L_a)):\n",
    "    if L_a[i] % 3 == 0:\n",
    "        print(i)\n",
    "        break"
   ]
  },
  {
   "cell_type": "markdown",
   "id": "53b6e6eb",
   "metadata": {},
   "source": [
    "<b> Duyệt list với giá trị từng phần tử</b>"
   ]
  },
  {
   "cell_type": "code",
   "execution_count": 64,
   "id": "cdf22aa3",
   "metadata": {},
   "outputs": [
    {
     "name": "stdout",
     "output_type": "stream",
     "text": [
      "8\n",
      "10\n",
      "12\n",
      "2\n",
      "4\n",
      "10\n",
      "2\n",
      "14\n",
      "10\n",
      "20\n"
     ]
    }
   ],
   "source": [
    "L_a = [8, 10, 12, 2, 4, 10, 2, 14, 10, 20]\n",
    "\n",
    "for i in L_a:\n",
    "    print(i)"
   ]
  },
  {
   "cell_type": "code",
   "execution_count": 72,
   "id": "0a9d4542-9ea2-41ba-9b3f-27d11c21db9a",
   "metadata": {},
   "outputs": [
    {
     "name": "stdout",
     "output_type": "stream",
     "text": [
      "18\n"
     ]
    }
   ],
   "source": [
    "# cho một L_a có các giá trị là số nguyên dương, hãy tìm và in giá trị của số chia hết cho 3 cuối cùng\n",
    "L_a = [8, 10, 9, 2, 4, 10, 2, 18, 10, 20]\n",
    "L_b = L_a[::-1]\n",
    "for i in L_b:\n",
    "    if i % 3 == 0:\n",
    "        print(i)\n",
    "        break"
   ]
  },
  {
   "cell_type": "code",
   "execution_count": 76,
   "id": "5553c789-b327-40ae-ae81-4c9b2103428f",
   "metadata": {},
   "outputs": [
    {
     "name": "stdout",
     "output_type": "stream",
     "text": [
      "5\n",
      "abc\n",
      "1\n",
      "2\n",
      "4\n"
     ]
    }
   ],
   "source": [
    "T_a = (5,\"abc\",1,2,4) #tuple\n",
    "\n",
    "for i in T_a:\n",
    "    print(i)"
   ]
  },
  {
   "cell_type": "code",
   "execution_count": 77,
   "id": "40c932ff-3d69-43c4-a0ac-6feb14449a0e",
   "metadata": {},
   "outputs": [
    {
     "name": "stdout",
     "output_type": "stream",
     "text": [
      "[1, 2, 3, 4, 5, 6]\n"
     ]
    }
   ],
   "source": [
    "L_a = [1,2,3]\n",
    "L_b = [4,5,6]\n",
    "L_c = L_a + L_b\n",
    "\n",
    "print(L_c)"
   ]
  },
  {
   "cell_type": "code",
   "execution_count": 79,
   "id": "f6fff825-8a86-4ba6-b0fc-b757dc6a4cd4",
   "metadata": {},
   "outputs": [
    {
     "name": "stdout",
     "output_type": "stream",
     "text": [
      "[0, 1, 0, 1, 0, 1, 0, 1, 0, 1, 0, 1, 0, 1, 0, 1, 0, 1, 0, 1]\n"
     ]
    }
   ],
   "source": [
    "L_a = [0,1]\n",
    "\n",
    "L_b = L_a*10\n",
    "\n",
    "print(L_b)"
   ]
  },
  {
   "cell_type": "markdown",
   "id": "3fcda853",
   "metadata": {},
   "source": [
    "### Bài tập"
   ]
  },
  {
   "cell_type": "markdown",
   "id": "72d9a5fa",
   "metadata": {},
   "source": [
    "Nhập vào một dãy số nguyên dương (ngưng nhập nếu người dùng nhập -1)\n",
    "\n",
    "Sau khi nhập hãy:\n",
    "- In ra số lớn nhất trong dãy\n",
    "- In ra số bé nhất trong dãy\n",
    "- In ra dãy số nguyên tố tìm được trong dãy vừa nhập"
   ]
  },
  {
   "cell_type": "code",
   "execution_count": 85,
   "id": "38805cc0",
   "metadata": {
    "scrolled": true
   },
   "outputs": [
    {
     "name": "stdin",
     "output_type": "stream",
     "text": [
      "Nhập số nguyên dương: 5\n",
      "Nhập số nguyên dương: 20\n",
      "Nhập số nguyên dương: 10\n",
      "Nhập số nguyên dương: 20\n",
      "Nhập số nguyên dương: 100\n",
      "Nhập số nguyên dương: 15\n",
      "Nhập số nguyên dương: 2\n",
      "Nhập số nguyên dương: -1\n"
     ]
    },
    {
     "name": "stdout",
     "output_type": "stream",
     "text": [
      "[5, 20, 10, 20, 100, 15, 2]\n",
      "Số lớn nhất: 100\n",
      "Số nhỏ nhất: 2\n",
      "[5, 2]\n"
     ]
    }
   ],
   "source": [
    "L_a = []\n",
    "a = int(input(\"Nhập số nguyên dương:\"))\n",
    "while a != -1:\n",
    "    L_a.append(a)\n",
    "    a = int(input(\"Nhập số nguyên dương:\"))\n",
    "print(L_a)\n",
    "\n",
    "# tìm số lớn nhất trong L_a\n",
    "# sử dụng thuật toán cho biến m = ???\n",
    "# và so sánh m với từng phần tử bên trong L_a\n",
    "# nếu m < phần tử nào đó ~~> thay thế m = phần tử đó\n",
    "\n",
    "m = L_a[0]\n",
    "for i in L_a:\n",
    "    if i > m:\n",
    "        m = i\n",
    "print(\"Số lớn nhất:\",m)\n",
    "\n",
    "m = L_a[0]\n",
    "for i in L_a:\n",
    "    if i < m:\n",
    "        m = i\n",
    "print(\"Số nhỏ nhất:\",m)\n",
    "\n",
    "def so_nguyen_to(a):\n",
    "    if a < 2:\n",
    "        return False\n",
    "\n",
    "    for i in range(2,a):\n",
    "        if a % i == 0:\n",
    "            return False\n",
    "\n",
    "    return True\n",
    "\n",
    "L_snt = []\n",
    "for i in L_a:\n",
    "    if so_nguyen_to(i):\n",
    "        L_snt.append(i)\n",
    "print(L_snt)\n",
    "    \n",
    "# tìm số bé nhất trong L_a\n",
    "# in ra dãy số nguyên tố trong L_a"
   ]
  },
  {
   "cell_type": "markdown",
   "id": "f493bb3e",
   "metadata": {},
   "source": [
    "Viết hàm với dữ liệu đầu vào bao gồm 3 tham số: list, a, b. Hàm này có công dụng tìm số lớn nhất trong đoạn từ vị trí a đến vị trí b trong list."
   ]
  },
  {
   "cell_type": "code",
   "execution_count": 22,
   "id": "aa1c8d23-4dad-4511-b4e8-4b66082fab25",
   "metadata": {},
   "outputs": [
    {
     "name": "stdout",
     "output_type": "stream",
     "text": [
      "1 7\n",
      "2 2\n",
      "3 4\n",
      "4 10\n",
      "5 15\n"
     ]
    }
   ],
   "source": [
    "L = [5,7,2,4,10,15,20]\n",
    "\n",
    "# duyệt list\n",
    "for i in range(1,5+1):\n",
    "    print(i,L[i])"
   ]
  },
  {
   "cell_type": "code",
   "execution_count": null,
   "id": "c9ce4a03-f433-4419-8dc2-7d1f63b30744",
   "metadata": {},
   "outputs": [],
   "source": [
    "L = [1,5,7,20]\n",
    "\n",
    "print(L[0])"
   ]
  },
  {
   "cell_type": "code",
   "execution_count": 5,
   "id": "c7789e78-d812-4855-a5f6-032307dafe0f",
   "metadata": {},
   "outputs": [
    {
     "name": "stdout",
     "output_type": "stream",
     "text": [
      "1\n",
      "5\n",
      "7\n",
      "20\n"
     ]
    }
   ],
   "source": [
    "L = [1,5,7,20]\n",
    "\n",
    "for i in L:\n",
    "    print(i)"
   ]
  },
  {
   "cell_type": "code",
   "execution_count": 10,
   "id": "cc76d86a-b53a-4728-821f-214733a63e74",
   "metadata": {},
   "outputs": [
    {
     "name": "stdout",
     "output_type": "stream",
     "text": [
      "33\n"
     ]
    }
   ],
   "source": [
    "L = [1,5,7,20]\n",
    "\n",
    "S = 0\n",
    "for i in L:\n",
    "    S += i\n",
    "\n",
    "print(S)"
   ]
  },
  {
   "cell_type": "code",
   "execution_count": 13,
   "id": "2312a5e1-e43f-4c54-95e8-17d4a7cd3d31",
   "metadata": {},
   "outputs": [
    {
     "name": "stdout",
     "output_type": "stream",
     "text": [
      "34\n"
     ]
    }
   ],
   "source": [
    "L = [6,7,20,10,25,21]\n",
    "\n",
    "m = L[0] # chỉ số\n",
    "for i in L:\n",
    "    if i > m:\n",
    "        m = i\n",
    "\n",
    "print(m)"
   ]
  },
  {
   "cell_type": "code",
   "execution_count": 15,
   "id": "fdb104c6-0a29-48d6-889e-f55db337f7ee",
   "metadata": {},
   "outputs": [
    {
     "name": "stdout",
     "output_type": "stream",
     "text": [
      "4\n"
     ]
    }
   ],
   "source": [
    "L = [6,7,20,4,25,21]\n",
    "\n",
    "m = L[0] # chỉ số\n",
    "for i in L:\n",
    "    if i < m:\n",
    "        m = i\n",
    "\n",
    "print(m)"
   ]
  },
  {
   "cell_type": "code",
   "execution_count": 2,
   "id": "c21bd770-1047-48f8-a003-837a876f7a6b",
   "metadata": {},
   "outputs": [
    {
     "name": "stdout",
     "output_type": "stream",
     "text": [
      "[0, 1, 2, 3, 4, 5, 6]\n"
     ]
    }
   ],
   "source": [
    "a = range(7) # ~> 0, 1, 2, 3, 4, 5, 6\n",
    "\n",
    "print(list(a))"
   ]
  },
  {
   "cell_type": "code",
   "execution_count": null,
   "id": "06344bf8-0963-4d99-a11c-7fa03eb33ba4",
   "metadata": {},
   "outputs": [],
   "source": [
    "L = [1,5,7,20]\n",
    "\n",
    "range(len(L)) # ~> 0, 1, 2, 3"
   ]
  },
  {
   "cell_type": "code",
   "execution_count": 6,
   "id": "70941432-a88b-49ea-abf0-24759b0824c3",
   "metadata": {},
   "outputs": [
    {
     "name": "stdout",
     "output_type": "stream",
     "text": [
      "34\n"
     ]
    }
   ],
   "source": [
    "L = [6,7,20,10,25,34]\n",
    "\n",
    "m = L[0]\n",
    "for i in L:\n",
    "    if i > m:\n",
    "        m = i\n",
    "\n",
    "print(m)"
   ]
  },
  {
   "cell_type": "code",
   "execution_count": 25,
   "id": "a730c2f8",
   "metadata": {},
   "outputs": [
    {
     "name": "stdout",
     "output_type": "stream",
     "text": [
      "15\n",
      "19\n",
      "20\n",
      "3\n"
     ]
    }
   ],
   "source": [
    "def tim_so_lon_nhat(L,a,b):\n",
    "    # tìm số lớn nhất từ a đến b\n",
    "    # return so_lon_nhat\n",
    "    m = L[a]\n",
    "    for i in range(a,b+1):\n",
    "        if L[i] > m:\n",
    "            m = L[i]\n",
    "\n",
    "    return m\n",
    "\n",
    "print(tim_so_lon_nhat([5,7,2,4,10,15,20],1,5)) # trả về 15\n",
    "print(tim_so_lon_nhat([5,7,2,19,10,15,20],1,5)) # trả về 19\n",
    "print(tim_so_lon_nhat([5,7,2,19,10,15,20],4,6)) # trả về 20\n",
    "print(tim_so_lon_nhat([0,1,2,-2,3,-4,-1],4,6))"
   ]
  },
  {
   "cell_type": "code",
   "execution_count": 20,
   "id": "8d26cb24-46ee-4dbe-8d6f-f7b0f91371fa",
   "metadata": {},
   "outputs": [
    {
     "name": "stdout",
     "output_type": "stream",
     "text": [
      "[1, 2, 3, 4, 5]\n"
     ]
    }
   ],
   "source": [
    "a = 1\n",
    "b = 5\n",
    "mm = range(a,b+1)\n",
    "print(list(mm))"
   ]
  },
  {
   "cell_type": "markdown",
   "id": "87acccb8",
   "metadata": {},
   "source": [
    "Viết hàm có tham số đầu vào là list, giá trị trả về là số lượng số nguyên tố bé hơn 100 trong list"
   ]
  },
  {
   "cell_type": "code",
   "execution_count": 41,
   "id": "c605991d",
   "metadata": {},
   "outputs": [
    {
     "name": "stdout",
     "output_type": "stream",
     "text": [
      "3\n"
     ]
    }
   ],
   "source": [
    "def so_nguyen_to(so):\n",
    "    ## xác định xem a có phải là số nguyên tố hay không\n",
    "    if so < 2:\n",
    "        return False\n",
    "        \n",
    "    for i in range(2,so):\n",
    "        if so % i == 0:\n",
    "            return False\n",
    "    \n",
    "    return True\n",
    "\n",
    "def dem_so_luong(L):\n",
    "    c = 0\n",
    "    for i in L:\n",
    "        if i < 100 and so_nguyen_to(i):\n",
    "            c += 1\n",
    "\n",
    "    return c\n",
    "        \n",
    "a = dem_so_luong([2,5,10,15,17,18,101])\n",
    "print(a)"
   ]
  },
  {
   "cell_type": "code",
   "execution_count": 42,
   "id": "1b5d24af-5299-40f6-9c09-535fb366582e",
   "metadata": {},
   "outputs": [
    {
     "name": "stdout",
     "output_type": "stream",
     "text": [
      "[1, 3, 1]\n"
     ]
    }
   ],
   "source": [
    "L = [1,2,3,2,1,4,2]\n",
    "\n",
    "i = 0\n",
    "while i < len(L):\n",
    "    if L[i] % 2 == 0:\n",
    "        L.pop(i)\n",
    "    else:\n",
    "        i += 1\n",
    "\n",
    "print(L)"
   ]
  },
  {
   "cell_type": "markdown",
   "id": "13840ec8",
   "metadata": {},
   "source": [
    "Viết hàm tìm giá trị dương đầu tiên của list, nếu không có giá trị dương trả về -1"
   ]
  },
  {
   "cell_type": "code",
   "execution_count": 45,
   "id": "d7ffb2b7",
   "metadata": {},
   "outputs": [
    {
     "name": "stdout",
     "output_type": "stream",
     "text": [
      "5\n",
      "-1\n"
     ]
    }
   ],
   "source": [
    "def tim_gia_tri_duong(L):\n",
    "    for i in L:\n",
    "        if i > 0:\n",
    "            return i\n",
    "        \n",
    "    return -1\n",
    "\n",
    "a = tim_gia_tri_duong([-2,-5,-10,5,0,-2,10]) # 5\n",
    "b = tim_gia_tri_duong([-2,-5,-10,-2,0,-2,-10]) # -1\n",
    "print(a)\n",
    "print(b)"
   ]
  },
  {
   "cell_type": "code",
   "execution_count": 48,
   "id": "4c779fd2-52e4-47cc-8a2e-7729ca825c1f",
   "metadata": {},
   "outputs": [
    {
     "name": "stdout",
     "output_type": "stream",
     "text": [
      "-10\n",
      "-2\n",
      "1\n"
     ]
    }
   ],
   "source": [
    "# viết hàm tìm giá trị âm cuối cùng của list, trong trường hợp, không có bất kỳ giá trị âm nào, thì trả về 1\n",
    "\n",
    "def tim_gia_tri_am(L):\n",
    "    L_dao = L[::-1]\n",
    "    for i in L_dao:\n",
    "        if i < 0:\n",
    "            return i\n",
    "\n",
    "    return 1\n",
    "\n",
    "a = tim_gia_tri_am([-2,-5,-10,5,0,-2,-10]) # -10\n",
    "b = tim_gia_tri_am([-2,-5,-10,-2,0,2,10]) # -2\n",
    "c = tim_gia_tri_am([2,5,10,2,0,2,10]) # 1\n",
    "print(a)\n",
    "print(b)\n",
    "print(c)"
   ]
  },
  {
   "cell_type": "code",
   "execution_count": 46,
   "id": "751283b6-9bba-4a61-91cc-577c73a3966e",
   "metadata": {},
   "outputs": [
    {
     "name": "stdout",
     "output_type": "stream",
     "text": [
      "[-10, -2, 0, 5, -10, -5, -2]\n"
     ]
    }
   ],
   "source": [
    "L = [-2,-5,-10,5,0,-2,-10]\n",
    "L_dao = L[::-1]\n",
    "print(L_dao)"
   ]
  },
  {
   "cell_type": "markdown",
   "id": "0f71c71e",
   "metadata": {},
   "source": [
    "Viết hàm có 2 giá trị đầu vào là list và x. Tìm giá trị trong list xa x nhất"
   ]
  },
  {
   "cell_type": "code",
   "execution_count": 50,
   "id": "03ef7d4c",
   "metadata": {},
   "outputs": [
    {
     "name": "stdout",
     "output_type": "stream",
     "text": [
      "-2\n",
      "10\n"
     ]
    }
   ],
   "source": [
    "def tim_gia_tri_xa_nhat(L,x):\n",
    "    # khoang_cach = abs(x - i)\n",
    "    m = L[0]\n",
    "    for i in L:\n",
    "        if abs(x - i) > abs(x - m):\n",
    "            m = i\n",
    "            \n",
    "    return m\n",
    "\n",
    "a = tim_gia_tri_xa_nhat([10,5,7,-2,3,4,10],20) # -2\n",
    "b = tim_gia_tri_xa_nhat([10,5,7,-2,3,4,10],2) # 10\n",
    "\n",
    "print(a)\n",
    "print(b)"
   ]
  },
  {
   "cell_type": "markdown",
   "id": "3b634d0f",
   "metadata": {},
   "source": [
    "Một người dùng số tiền là U đô-la và V Euro để mua một loại nguyên liệu sản xuất. \n",
    "\n",
    "Có N công ty nước ngoài bán nguyên liệu trên được đánh số từ 1 đến N. Công ty thứ i có giá bán Ai đô la/1 kg nguyên liệu và Bi Euro/1 kg nguyên liệu. \n",
    "\n",
    "Tuy nhiên, tại mỗi công ty chỉ bán nguyên liệu cho một khách hàng hoặc theo đô-la, hoặc theo Euro. \n",
    "\n",
    "Hãy giúp người đó tìm cách chọn ra 2 công ty để mua hàng sao cho số lượng nguyên liệu sản xuất có thể mua được là nhiều nhất.\n",
    "\n",
    "Nhập vào: Từ bàn phím 3 số theo thứ tự : N U V (1 ≤ N ≤ 20; 1 ≤ U, V ≤ 1000) và N cặp số nguyên Ai, Bi (1 < Ai, Bi < 1000) (nhập lần lượng A1, B1 rồi A2, B2)\n",
    "\n",
    "In ra : Số lượng nguyên liệu S(kg) người đó mua được với 2 chữ số thập phân."
   ]
  },
  {
   "cell_type": "code",
   "execution_count": null,
   "id": "677abefe",
   "metadata": {},
   "outputs": [],
   "source": []
  },
  {
   "cell_type": "code",
   "execution_count": null,
   "id": "90401e4e",
   "metadata": {},
   "outputs": [],
   "source": []
  }
 ],
 "metadata": {
  "kernelspec": {
   "display_name": "Python 3 (ipykernel)",
   "language": "python",
   "name": "python3"
  },
  "language_info": {
   "codemirror_mode": {
    "name": "ipython",
    "version": 3
   },
   "file_extension": ".py",
   "mimetype": "text/x-python",
   "name": "python",
   "nbconvert_exporter": "python",
   "pygments_lexer": "ipython3",
   "version": "3.11.7"
  }
 },
 "nbformat": 4,
 "nbformat_minor": 5
}
