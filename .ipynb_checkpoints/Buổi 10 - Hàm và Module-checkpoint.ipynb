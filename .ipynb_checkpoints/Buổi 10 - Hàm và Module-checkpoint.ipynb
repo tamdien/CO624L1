{
 "cells": [
  {
   "cell_type": "markdown",
   "id": "73456e5e",
   "metadata": {},
   "source": [
    "# Hàm\n",
    "\n",
    "### Hàm\n",
    "\n",
    "Cú pháp:\n",
    "\n",
    "```\n",
    "def <tên hàm>(<tham số)>:\n",
    "    //Nội dung hàm\n",
    "```\n",
    "\n",
    "Gọi hàm:\n",
    "`<tên hàm>(<giá trị đầu vào>)`\n",
    "\n",
    "Ví dụ:\n",
    "\n",
    "Hãy viết 1 hàm số để tính tổng 2 số đầu vào và in nó ra màn hình"
   ]
  },
  {
   "cell_type": "code",
   "execution_count": 3,
   "id": "af5b9f6d",
   "metadata": {},
   "outputs": [
    {
     "name": "stdout",
     "output_type": "stream",
     "text": [
      "hello thầy Điền\n",
      "hello thầy Điền\n"
     ]
    }
   ],
   "source": [
    "# chúng ta chỉ đang định nghĩa hàm\n",
    "def in_hello_thay_Dien():\n",
    "    print(\"hello thầy Điền\")\n",
    "    \n",
    "# vì chúng ta chưa gọi hàm\n",
    "in_hello_thay_Dien()\n",
    "in_hello_thay_Dien()"
   ]
  },
  {
   "cell_type": "code",
   "execution_count": 7,
   "id": "2772d660-0376-4694-8117-33815c07e385",
   "metadata": {},
   "outputs": [
    {
     "name": "stdout",
     "output_type": "stream",
     "text": [
      "hello thầy Điền\n",
      "hello lớp\n",
      "hello các bạn\n",
      "hello thầy Điền\n",
      "hello lớp\n",
      "hello các bạn\n"
     ]
    }
   ],
   "source": [
    "# cần một đoạn chương trình, in nhiều dòng \"hello thầy Điền\", \"hello lớp\", \"hello các bạn\"\n",
    "def in_nhieu_dong():\n",
    "    print(\"hello thầy Điền\")\n",
    "    print(\"hello lớp\")\n",
    "    print(\"hello các bạn\")\n",
    "\n",
    "in_nhieu_dong()\n",
    "# dsakljdalksjdka\n",
    "# dksajkdsjkdjas\n",
    "# dskajdksjdajas\n",
    "in_nhieu_dong()"
   ]
  },
  {
   "cell_type": "code",
   "execution_count": 6,
   "id": "704eb02c-4e34-4680-a7ab-9779a4df8a08",
   "metadata": {},
   "outputs": [
    {
     "name": "stdout",
     "output_type": "stream",
     "text": [
      "hello thầy Điền\n",
      "hello lớp\n",
      "hello các bạn\n",
      "hello thầy Điền\n",
      "hello lớp\n",
      "hello các bạn\n"
     ]
    }
   ],
   "source": [
    "# cần một đoạn chương trình, in nhiều dòng \"hello thầy Điền\", \"hello lớp\", \"hello các bạn\"\n",
    "\n",
    "print(\"hello thầy Điền\")\n",
    "print(\"hello lớp\")\n",
    "print(\"hello các bạn\")\n",
    "# dsakljdalksjdka\n",
    "# dksajkdsjkdjas\n",
    "# dskajdksjdajas\n",
    "print(\"hello thầy Điền\")\n",
    "print(\"hello lớp\")\n",
    "print(\"hello các bạn\")"
   ]
  },
  {
   "cell_type": "code",
   "execution_count": 14,
   "id": "d55c702e-310c-4b96-b6d3-7f1b095ee479",
   "metadata": {},
   "outputs": [
    {
     "name": "stdout",
     "output_type": "stream",
     "text": [
      "100\n",
      "25\n"
     ]
    }
   ],
   "source": [
    "def tinh_mu_2(so):\n",
    "    print(so**2)\n",
    "\n",
    "tinh_mu_2(10)\n",
    "tinh_mu_2(5)"
   ]
  },
  {
   "cell_type": "code",
   "execution_count": 15,
   "id": "9aedd18a-8402-45ef-8188-641c0065f394",
   "metadata": {},
   "outputs": [
    {
     "name": "stdout",
     "output_type": "stream",
     "text": [
      "13\n"
     ]
    }
   ],
   "source": [
    "# viết hàm tinh_tong có 2 tham số đầu vào, in tổng của 2 giá trị đưa vào\n",
    "def tinh_tong(a,b):\n",
    "    print(a+b)\n",
    "\n",
    "tinh_tong(3,10)"
   ]
  },
  {
   "cell_type": "code",
   "execution_count": 22,
   "id": "6618cdf0-0c0d-4bad-8ec8-cb995176edb3",
   "metadata": {},
   "outputs": [
    {
     "name": "stdout",
     "output_type": "stream",
     "text": [
      "17\n",
      "15\n",
      "20\n"
     ]
    }
   ],
   "source": [
    "# viết hàm tim_so_giua có 3 tham số đầu vào, hãy tìm và in ra số lớn nhì trong 3 số đó\n",
    "def so_lon_nhi(so1, so2, so3):\n",
    "    # tìm số nhỏ nhất đưa lên so1\n",
    "    if so1 > so2:\n",
    "        so1, so2 = so2, so1\n",
    "    if so1 > so3:\n",
    "        so1, so3 = so3, so1\n",
    "\n",
    "    # tìm số nhỏ nhì đưa lên số 2\n",
    "    if so2 > so3:\n",
    "        so2, so3 = so3, so2\n",
    "    print(so2)\n",
    "    \n",
    "so_lon_nhi(20, 17, 15) # in 17\n",
    "so_lon_nhi(7,15,20) # in 15\n",
    "so_lon_nhi(1,100,20) # in 20"
   ]
  },
  {
   "cell_type": "markdown",
   "id": "a7c39f47",
   "metadata": {},
   "source": [
    "### Giá trị trả về của hàm\n",
    "\n",
    "# return\n",
    "\n",
    "Cú pháp:\n",
    "\n",
    "`retrun <giá trị trả về>`\n",
    "\n",
    "##### Lưu ý: Sau khi thực hiện lệnh return, chương trình sẽ thoát khỏi hàm ngay lập tức (những lệnh sau đó không được thực hiện)\n",
    "\n",
    "Ví dụ:\n",
    "\n",
    "Hãy viết 1 hàm trả về giá trị trung bình của 2 số bất kỳ"
   ]
  },
  {
   "cell_type": "code",
   "execution_count": 26,
   "id": "0b527b95",
   "metadata": {},
   "outputs": [
    {
     "name": "stdout",
     "output_type": "stream",
     "text": [
      "7\n"
     ]
    }
   ],
   "source": [
    "a = abs(7)\n",
    "print(a)"
   ]
  },
  {
   "cell_type": "code",
   "execution_count": 29,
   "id": "d0b8b3ae-1ae5-4f2a-99b3-78d3cdf8c841",
   "metadata": {},
   "outputs": [
    {
     "name": "stdout",
     "output_type": "stream",
     "text": [
      "10\n"
     ]
    }
   ],
   "source": [
    "def tui_la_ham_co_gia_tri_tra_ve():\n",
    "    return 10\n",
    "\n",
    "a = tui_la_ham_co_gia_tri_tra_ve()\n",
    "print(a)"
   ]
  },
  {
   "cell_type": "code",
   "execution_count": 37,
   "id": "3bbda11c-00a2-47e4-ad72-fee4dd000ae7",
   "metadata": {},
   "outputs": [
    {
     "name": "stdout",
     "output_type": "stream",
     "text": [
      "99\n"
     ]
    }
   ],
   "source": [
    "def tinh_mu_2(so):\n",
    "    return so**2\n",
    "\n",
    "a = tinh_mu_2(7)\n",
    "b = a + 50\n",
    "print(b)"
   ]
  },
  {
   "cell_type": "code",
   "execution_count": null,
   "id": "24c69d2b-5608-4fab-8087-2ade579eb3ae",
   "metadata": {},
   "outputs": [],
   "source": [
    "def abs(a):\n",
    "    if a < 0:\n",
    "        return a*-1\n",
    "    else:\n",
    "        return a"
   ]
  },
  {
   "cell_type": "code",
   "execution_count": 38,
   "id": "363e47d4-d121-4370-b52c-cfaaca22a63f",
   "metadata": {},
   "outputs": [
    {
     "name": "stdin",
     "output_type": "stream",
     "text": [
      "Nhập vào a: -7\n"
     ]
    },
    {
     "name": "stdout",
     "output_type": "stream",
     "text": [
      "57\n"
     ]
    }
   ],
   "source": [
    "# nhập vào a, lấy trị tuyệt đối của a + thêm 50 rồi in ra màn hình\n",
    "a = int(input(\"Nhập vào a:\"))\n",
    "\n",
    "tri_tuyet_doi = abs(a)\n",
    "print(tri_tuyet_doi + 50)"
   ]
  },
  {
   "cell_type": "code",
   "execution_count": null,
   "id": "7e7b69ac-af4c-47de-aa1b-8853f71deb32",
   "metadata": {},
   "outputs": [],
   "source": [
    "# viết hàm cho 2 tham số và tính và trả về trung bình cộng của 2 tham số đó"
   ]
  },
  {
   "cell_type": "code",
   "execution_count": 39,
   "id": "ca92ad2a-6bf2-486e-b787-64bf8ad1fcc2",
   "metadata": {},
   "outputs": [
    {
     "name": "stdout",
     "output_type": "stream",
     "text": [
      "12.5\n"
     ]
    }
   ],
   "source": [
    "def print_trung_binh(a,b):\n",
    "    print((a+b)/2)\n",
    "\n",
    "def trung_binh(a,b):\n",
    "    return (a+b)/2\n",
    "\n",
    "# thầy muốn tính trung bình, sau đó cộng giá trị trung bình đó cho 3 rồi mới in\n",
    "gia_tri_trung_binh = print_trung_binh(10,15)\n",
    "# biến gia_tri_trung_binh sẽ mang giá trị gì???\n",
    "# biến gia_tri_trung_binh = None ~~> None là giá trị tượng trưng cho không có giá trị ~~> nó không có giá trị"
   ]
  },
  {
   "cell_type": "code",
   "execution_count": 40,
   "id": "34845570-1261-484d-bef6-358213af674b",
   "metadata": {},
   "outputs": [
    {
     "name": "stdout",
     "output_type": "stream",
     "text": [
      "15.5\n"
     ]
    }
   ],
   "source": [
    "def print_trung_binh(a,b):\n",
    "    print((a+b)/2)\n",
    "\n",
    "def trung_binh(a,b):\n",
    "    return (a+b)/2\n",
    "\n",
    "# thầy muốn tính trung bình, sau đó cộng giá trị trung bình đó cho 3 rồi mới in\n",
    "gia_tri_trung_binh = trung_binh(10,15)\n",
    "# biến gia_tri_trung_binh sẽ mang giá trị là 12.5\n",
    "print(gia_tri_trung_binh + 3)"
   ]
  },
  {
   "cell_type": "code",
   "execution_count": 41,
   "id": "26f8c4d7-e036-49bb-b476-af772dfc51a6",
   "metadata": {},
   "outputs": [
    {
     "name": "stdout",
     "output_type": "stream",
     "text": [
      "12.5\n",
      "17.5\n"
     ]
    }
   ],
   "source": [
    "a = trung_binh(10,15)\n",
    "b = trung_binh(15,20)\n",
    "print(a)\n",
    "print(b)"
   ]
  },
  {
   "cell_type": "code",
   "execution_count": 44,
   "id": "be9ffdcd-4006-4616-bd26-fa1987604616",
   "metadata": {},
   "outputs": [
    {
     "name": "stdout",
     "output_type": "stream",
     "text": [
      "17.5\n"
     ]
    }
   ],
   "source": [
    "# lệnh return sẽ dừng hàm ngay lập tức\n",
    "def trung_binh(a,b):\n",
    "    return (a+b)/2\n",
    "    print('hello')\n",
    "\n",
    "gia_tri_trung_binh = trung_binh(15,20)\n",
    "print(gia_tri_trung_binh)"
   ]
  },
  {
   "cell_type": "code",
   "execution_count": 48,
   "id": "755a939e-3022-422a-baa8-95bd75a30f58",
   "metadata": {},
   "outputs": [
    {
     "name": "stdout",
     "output_type": "stream",
     "text": [
      "hello\n",
      "hello\n",
      "hello\n",
      "hello\n",
      "hello\n",
      "hello\n",
      "a: 11\n"
     ]
    }
   ],
   "source": [
    "def tui_la_ham():\n",
    "    for i in range(1,20,2): # range(1,20,2) ~~> (1,3,5,7,9,11,13,15,17,19)\n",
    "        print(\"hello\")\n",
    "        if i > 10:\n",
    "            return i\n",
    "\n",
    "a = tui_la_ham()\n",
    "print(\"a:\",a)\n",
    "# lệnh in hello sẽ được in bao nhiêu lần??\n",
    "# giá trị của a la bao nhiêu?"
   ]
  },
  {
   "cell_type": "markdown",
   "id": "1d7f8db0",
   "metadata": {},
   "source": [
    "### Bài tập"
   ]
  },
  {
   "cell_type": "markdown",
   "id": "75fb488b",
   "metadata": {},
   "source": [
    "Viết hàm kiểm tra số nguyên tố"
   ]
  },
  {
   "cell_type": "code",
   "execution_count": 3,
   "id": "63701bd7",
   "metadata": {},
   "outputs": [
    {
     "name": "stdout",
     "output_type": "stream",
     "text": [
      "False\n"
     ]
    }
   ],
   "source": [
    "# return True/False tuỳ xem giá trị đưa vào là số nguyên hay không\n",
    "# số nguyên tố là số chỉ có 2 ước là 1 và chính nó\n",
    "# giả sử a là số nguyên tố thì từ 2 đến a-1 sẽ không có ước của a\n",
    "\n",
    "def so_nguyen_to(a):\n",
    "    if a <= 1:\n",
    "        return False\n",
    "    \n",
    "    for i in range(2,a):\n",
    "        # trong khoảng từ 2 đến a - 1, nếu có bất kỳ số nào là ước của a\n",
    "        # thì a KHÔNG là số nguyên tố ~~> ta có thể return False\n",
    "        # khi return False, hàm sẽ dừng lại ngay lập tức ~~> return True ở phía dưới sẽ không chạy\n",
    "        if a % i == 0:\n",
    "            return False\n",
    "\n",
    "    # khi ta đã chạy hết dòng for, tức từ 2 đến a - 1 không có bất kỳ ước nào ~~> return False sẽ không chạy\n",
    "    # return True sẽ chạy\n",
    "    return True\n",
    "\n",
    "print(so_nguyen_to(14))"
   ]
  },
  {
   "cell_type": "code",
   "execution_count": null,
   "id": "4cb02b11-e1a1-4b8e-b523-f5c1074a7dbe",
   "metadata": {},
   "outputs": [],
   "source": []
  },
  {
   "cell_type": "markdown",
   "id": "221103cf",
   "metadata": {},
   "source": [
    "Nhập vào 3 điểm toán, lý, hóa\n",
    "\n",
    "Hãy viết hàm in điểm trung bung bình rồi tính điểm trung bình của toán lý, toán hóa, lý hóa và toán lý hóa"
   ]
  },
  {
   "cell_type": "code",
   "execution_count": null,
   "id": "1ba1d8ae",
   "metadata": {},
   "outputs": [],
   "source": [
    "def trung_binh(toan,ly,hoa):\n",
    "    toan_ly = (toan + ly)/2\n",
    "    toan_hoa = (toan + hoa)/2\n",
    "    ly_hoa = (ly + hoa)/2\n",
    "    ba_mon = (toan + ly + hoa)/3\n",
    "    print(\"Trung bình Toán Lý:\",toan_ly)\n",
    "    print(\"Trung bình Toán Hóa:\",toan_hoa)\n",
    "    print(\"Trung bình Lý Hóa:\",ly_hoa)\n",
    "    print(\"Trung bình ba môn:\",ba_mon)"
   ]
  },
  {
   "cell_type": "markdown",
   "id": "06eb5c4a",
   "metadata": {},
   "source": [
    "Viết hàm tính giai thừa của một số"
   ]
  },
  {
   "cell_type": "code",
   "execution_count": 9,
   "id": "7b91ddf0",
   "metadata": {},
   "outputs": [
    {
     "data": {
      "text/plain": [
       "120"
      ]
     },
     "execution_count": 9,
     "metadata": {},
     "output_type": "execute_result"
    }
   ],
   "source": [
    "def giai_thua(a):\n",
    "    giai_thua = 1\n",
    "    for i in range(2,a+1):\n",
    "        giai_thua *= i\n",
    "\n",
    "    return giai_thua\n",
    "\n",
    "giai_thua(5) # = 7! = 1*2*3*4*5 = 120"
   ]
  },
  {
   "cell_type": "markdown",
   "id": "50f43307",
   "metadata": {},
   "source": [
    "Viết hàm đếm số lượng từ của một chuỗi đưa vào"
   ]
  },
  {
   "cell_type": "code",
   "execution_count": 19,
   "id": "be785b29",
   "metadata": {},
   "outputs": [
    {
     "name": "stdout",
     "output_type": "stream",
     "text": [
      "4\n",
      "4\n",
      "4\n"
     ]
    }
   ],
   "source": [
    "def dem_tu(chuoi):\n",
    "    # chuỗi có thể có nhiều khoẳng trắng giữa các từ\n",
    "    # B1: xoá khoảng trắng đầu + đuôi của chuỗi (có hàm để xoá)\n",
    "    # B2: xoá các khoảng trắng thừa giữa các từ\n",
    "    # B3: đếm số lượng khoảng trắng + 1 ~~> ra được số lượng từ\n",
    "\n",
    "    # B1:\n",
    "    chuoi = chuoi.strip()\n",
    "    # B2:\n",
    "    # sử dụng lệnh while để lặp thay thế những khoảng trắng đôi \"  \" thành đơn \" \", lênh replace\n",
    "    # lặp cho đến khi nào không còn khoảng trắng đôi bên trong chuỗi nữa\n",
    "    while chuoi.find(\"  \") != -1:\n",
    "        chuoi = chuoi.replace(\"  \",\" \")\n",
    "\n",
    "    ket_qua = chuoi.count(\" \") + 1\n",
    "    return ket_qua\n",
    "\n",
    "print(dem_tu(\"Chúc lớp học tốt\"))\n",
    "print(dem_tu(\"  Chúc lớp học tốt  \"))\n",
    "print(dem_tu(\"Chúc  lớp học   tốt\"))"
   ]
  },
  {
   "cell_type": "code",
   "execution_count": null,
   "id": "3b68f8c9-bf8c-42d2-827e-42f10b51280a",
   "metadata": {},
   "outputs": [],
   "source": [
    "\"Chúc  lớp học   tốt\" ~~> \"Chúc lớp học  tốt\" ~~> \"Chúc lớp học tốt\""
   ]
  },
  {
   "cell_type": "code",
   "execution_count": 18,
   "id": "71f18c00-67f5-4f7a-a39a-49ebae04e1ff",
   "metadata": {},
   "outputs": [
    {
     "name": "stdin",
     "output_type": "stream",
     "text": [
      "Nhập vào một chuỗi:  xin chào các bạn\n"
     ]
    },
    {
     "name": "stdout",
     "output_type": "stream",
     "text": [
      "xin chào các bạn\n",
      "Số lượng từ trong chuỗi là: 4\n"
     ]
    }
   ],
   "source": [
    "def dem_so_tu(chuoi):\n",
    "    a = 0\n",
    "    b = len(chuoi) - 1\n",
    "    while a <= b and chuoi[a] == ' ':\n",
    "        a += 1\n",
    "    while b>= a and chuoi[b] == ' ':\n",
    "        b -= 1\n",
    "    chuoi = chuoi[a:b+1]\n",
    "    \n",
    "    i = 0\n",
    "    Khoang_trang = \"\"\n",
    "    while i < len(chuoi):\n",
    "        if chuoi[i] != ' ':\n",
    "            Khoang_trang += chuoi[i]\n",
    "        elif i > 0 and chuoi[i-1] != ' ':\n",
    "            Khoang_trang += ' '\n",
    "        i += 1\n",
    "    so_luong_tu = Khoang_trang.count(' ') + 1\n",
    "    return so_luong_tu\n",
    "\n",
    "chuoi = input(\"Nhập vào một chuỗi: \")\n",
    "ket_qua = dem_so_tu(chuoi)\n",
    "print(\"Số lượng từ trong chuỗi là:\", ket_qua)"
   ]
  },
  {
   "cell_type": "code",
   "execution_count": 13,
   "id": "add17a28-5162-473b-8d3f-bb67f2ad9f2f",
   "metadata": {},
   "outputs": [
    {
     "name": "stdout",
     "output_type": "stream",
     "text": [
      "Chúc lớp học tốt\n"
     ]
    }
   ],
   "source": [
    "chuoi = \"   Chúc lớp học tốt  \"\n",
    "chuoi = chuoi.strip()\n",
    "print(chuoi)"
   ]
  },
  {
   "cell_type": "code",
   "execution_count": 16,
   "id": "9b65a75b-8b7a-4518-aec2-d1d388f9863a",
   "metadata": {},
   "outputs": [
    {
     "name": "stdout",
     "output_type": "stream",
     "text": [
      "Chúc lớp học tốt\n"
     ]
    }
   ],
   "source": [
    "def cat_dau_duoi(chuoi):\n",
    "    a = 0\n",
    "    b = len(chuoi) - 1\n",
    "    while a <= b and chuoi[a] == ' ':\n",
    "        a += 1\n",
    "    while b>= a and chuoi[b] == ' ':\n",
    "        b -= 1\n",
    "    chuoi = chuoi[a:b+1]\n",
    "    return chuoi\n",
    "\n",
    "print(cat_dau_duoi(\"Chúc lớp học tốt\"))"
   ]
  },
  {
   "cell_type": "code",
   "execution_count": null,
   "id": "0dbaffab-e50b-4738-9f51-7dd0538a2d66",
   "metadata": {},
   "outputs": [],
   "source": [
    "def dem_so_tu(chuoi):\n",
    "    so_luong_tu = 0\n",
    "    trong_tu = False\n",
    "    for ky_tu in chuoi:\n",
    "        if ky_tu != ' ':\n",
    "            so_luong_tu += 1\n",
    "            trong_tu = True\n",
    "        elif ky_tu == ' ':\n",
    "            trong_tu = False\n",
    "    return so_luong_tu\n",
    "chuoi = input(\"Nhập vào một chuỗi: \")\n",
    "ket_qua = dem_so_tu(chuoi)\n",
    "print(\"Số lượng từ trong chuỗi là:\", ket_qua)"
   ]
  },
  {
   "cell_type": "code",
   "execution_count": 12,
   "id": "9f0bb51e-f83e-4078-a8e3-a43c925233bc",
   "metadata": {},
   "outputs": [
    {
     "name": "stdout",
     "output_type": "stream",
     "text": [
      "4\n",
      "4\n",
      "4\n"
     ]
    }
   ],
   "source": [
    "def dem_tu(chuoi):\n",
    "    so_luong_tu = 0\n",
    "    khoang = False\n",
    "\n",
    "    for i in chuoi:\n",
    "        if i.isspace():\n",
    "            khoang = False\n",
    "        elif not khoang:\n",
    "            khoang = True\n",
    "            so_luong_tu += 1\n",
    "\n",
    "    return so_luong_tu\n",
    "\n",
    "print(dem_tu(\"Chúc lớp học tốt\"))\n",
    "print(dem_tu(\"  Chúc lớp học tốt  \"))\n",
    "print(dem_tu(\"Chúc  lớp học   tốt\"))"
   ]
  },
  {
   "cell_type": "markdown",
   "id": "696aa7d2",
   "metadata": {},
   "source": [
    "Viết hàm có giá trị đầu vào là tên sản phẩm, giá một sản phẩm và số lượng sản phẩm, tính và trả về tổng giá tiền"
   ]
  },
  {
   "cell_type": "code",
   "execution_count": null,
   "id": "da2213a2",
   "metadata": {},
   "outputs": [],
   "source": [
    "def tinh_tien(ten_san_pham,gia_san_pham,so_luong_san_pham):\n",
    "    return gia_san_pham*so_luong_san_pham"
   ]
  },
  {
   "cell_type": "code",
   "execution_count": null,
   "id": "24615f54-b1c1-4567-959e-76e9dc6b193c",
   "metadata": {},
   "outputs": [],
   "source": []
  },
  {
   "cell_type": "markdown",
   "id": "acdf1356",
   "metadata": {},
   "source": [
    "Viết hàm lấy tên đệm\n",
    "\n",
    "Ví dụ: Nhập vào \"Nguyễn Tâm Điền\"\n",
    "\n",
    "Kết quả in ra là: \"Tâm\""
   ]
  },
  {
   "cell_type": "code",
   "execution_count": 23,
   "id": "a5255f7a",
   "metadata": {},
   "outputs": [
    {
     "name": "stdout",
     "output_type": "stream",
     "text": [
      "Tâm\n",
      "Lê Khánh\n",
      "\n"
     ]
    }
   ],
   "source": [
    "def ten_dem(chuoi):\n",
    "    vt1 = chuoi.find(\" \")\n",
    "    vt2 = chuoi.rfind(\" \")\n",
    "    return chuoi[vt1+1:vt2]\n",
    "\n",
    "print(ten_dem(\"Nguyễn Tâm Điền\"))\n",
    "print(ten_dem(\"Bùi Lê Khánh Huyền\"))\n",
    "print(ten_dem(\"Nguyễn Hạ\"))"
   ]
  },
  {
   "cell_type": "markdown",
   "id": "b4adef40",
   "metadata": {},
   "source": [
    "Viết một hàm vẽ hình tròn, một hàm vẽ hình vuông và một hàm vẽ hình tam giác đều (giá trị đầu vào là a)\n",
    "\n",
    "Tất cả hàm này, bắt đầu từ 1 vị trí, sau khi vẽ ra, con trỏ sẽ tiến tới vị trí tiếp theo, cách vì đầu một khoảng a + 10 theo chiều x từ trái sang"
   ]
  },
  {
   "cell_type": "code",
   "execution_count": null,
   "id": "e405d1d4",
   "metadata": {},
   "outputs": [],
   "source": []
  }
 ],
 "metadata": {
  "kernelspec": {
   "display_name": "Python 3 (ipykernel)",
   "language": "python",
   "name": "python3"
  },
  "language_info": {
   "codemirror_mode": {
    "name": "ipython",
    "version": 3
   },
   "file_extension": ".py",
   "mimetype": "text/x-python",
   "name": "python",
   "nbconvert_exporter": "python",
   "pygments_lexer": "ipython3",
   "version": "3.11.7"
  }
 },
 "nbformat": 4,
 "nbformat_minor": 5
}
