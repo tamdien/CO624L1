{
 "cells": [
  {
   "cell_type": "markdown",
   "id": "5bc93fb0",
   "metadata": {},
   "source": [
    "# Thực hành nhập xuất dữ liệu & chuỗi\n",
    "\n",
    "### Bài tập tra cứu lệnh\n",
    "\n",
    "Nhập vào một chuỗi, kiểm tra xem chuỗi đó có ký tự nào là chữ in hoa hay không, nếu có thì in True, không có thì in False"
   ]
  },
  {
   "cell_type": "code",
   "execution_count": 12,
   "id": "4b3df2ba",
   "metadata": {},
   "outputs": [
    {
     "name": "stdin",
     "output_type": "stream",
     "text": [
      "Nhập vào chuỗi: askdjksjdSdsakjdks\n"
     ]
    },
    {
     "name": "stdout",
     "output_type": "stream",
     "text": [
      "True\n"
     ]
    }
   ],
   "source": [
    "chuoi = input(\"Nhập vào chuỗi:\")\n",
    "# hàm issupper sẽ trả về True nếu toàn bộ ký tự là chữ in hoa???\n",
    "# nhưng đề yêu cầu 1 ký tự là chữ in hoa là được???\n",
    "# hàm islower sẽ trả về True nếu toàn bộ ký tự là chữ thường, ngược lại trả về False\n",
    "# vì nếu toàn nam ~~> không có nữ\n",
    "# nếu không phải toàn nam ~~> thì có nữ\n",
    "# nếu toàn chữ thường ~~> không có chữ in hoa\n",
    "# nếu không phải toàn chữ thường ~~> thì có chữ in hoa\n",
    "print(not chuoi.islower())"
   ]
  },
  {
   "cell_type": "markdown",
   "id": "e14eae7c",
   "metadata": {},
   "source": [
    "Nhập vào một chuỗi, kiểm tra xem chuỗi đó có ký tự nào là chữ in thường hay không, nếu có thì in True, không có thì in False"
   ]
  },
  {
   "cell_type": "code",
   "execution_count": 15,
   "id": "ab00180c",
   "metadata": {},
   "outputs": [
    {
     "name": "stdin",
     "output_type": "stream",
     "text": [
      "Nhập vào chuỗi: KJKDJsSD\n"
     ]
    },
    {
     "name": "stdout",
     "output_type": "stream",
     "text": [
      "True\n"
     ]
    }
   ],
   "source": [
    "chuoi = input(\"Nhập vào chuỗi:\")\n",
    "print(not chuoi.isupper())"
   ]
  },
  {
   "cell_type": "markdown",
   "id": "eab86ecf",
   "metadata": {},
   "source": [
    "Nhập vào một chuỗi a và chuỗi b, tìm vị trí đầu tiên xuất hiện chuỗi b trong chuỗi a"
   ]
  },
  {
   "cell_type": "code",
   "execution_count": 22,
   "id": "051eb4af",
   "metadata": {},
   "outputs": [
    {
     "name": "stdin",
     "output_type": "stream",
     "text": [
      "Nhập chuỗi a: xin chào xin chào\n",
      "Nhập chuỗi b: chào\n"
     ]
    },
    {
     "name": "stdout",
     "output_type": "stream",
     "text": [
      "4\n"
     ]
    }
   ],
   "source": [
    "a = input (\"Nhập chuỗi a:\")\n",
    "b = input (\"Nhập chuỗi b:\")\n",
    "print(a.find(b))"
   ]
  },
  {
   "cell_type": "code",
   "execution_count": 23,
   "id": "c980710e-6640-4a53-8937-3cd8ee71e7b3",
   "metadata": {},
   "outputs": [
    {
     "name": "stdin",
     "output_type": "stream",
     "text": [
      "Nhập chuỗi a: xin chào xin chào\n",
      "Nhập chuỗi b: chào\n"
     ]
    },
    {
     "name": "stdout",
     "output_type": "stream",
     "text": [
      "13\n"
     ]
    }
   ],
   "source": [
    "a = input (\"Nhập chuỗi a:\")\n",
    "b = input (\"Nhập chuỗi b:\")\n",
    "print(a.rfind(b))"
   ]
  },
  {
   "cell_type": "markdown",
   "id": "9239bc4e",
   "metadata": {},
   "source": [
    "Nhập vào một chuỗi a, hãy xóa từ đầu tiên trong chuỗi a, rồi in ra màn hình"
   ]
  },
  {
   "cell_type": "code",
   "execution_count": 20,
   "id": "90967cd9",
   "metadata": {},
   "outputs": [
    {
     "name": "stdin",
     "output_type": "stream",
     "text": [
      "Nhập vào chuỗi: Nguyễn Thành Phát\n"
     ]
    },
    {
     "name": "stdout",
     "output_type": "stream",
     "text": [
      "Thành Phát\n"
     ]
    }
   ],
   "source": [
    "# xin chào các bạn ~~> chào các bạn\n",
    "# từ là gì? từ là những tập hợp các ký từ cách nhau bởi một khoảng trắng\n",
    "# tất cả các ký tự nằm trước khoảng trắng đầu tiên của chuỗi chính là từ đầu tiên\n",
    "# xoá từ đầu tiên ~~> xoá tất cả những ký tự nằm trước khoảng trắng đầu tiên\n",
    "# xoá từ đầu tiên đi ~~> giữa lại phần còn lại ~~> mình có thể cắt chuỗi từ khoảng trắng đầu tiên đến hết\n",
    "# vậy thì mình cần tìm vị trí của khoảng trắng đầu tiên???\n",
    "\n",
    "chuoi = input(\"Nhập vào chuỗi:\")\n",
    "khoang_trang_dau_tien = chuoi.find(\" \")\n",
    "chuoi_da_cat = chuoi[khoang_trang_dau_tien+1:]\n",
    "print(chuoi_da_cat)"
   ]
  },
  {
   "cell_type": "markdown",
   "id": "05b74fb4",
   "metadata": {},
   "source": [
    "### Bài 1\n",
    "\n",
    "Nhập vào một chuỗi, đếm xem có bao nhiêu từ trong chuỗi kết thúc bằng chữ n"
   ]
  },
  {
   "cell_type": "code",
   "execution_count": 28,
   "id": "d126675c",
   "metadata": {},
   "outputs": [
    {
     "name": "stdin",
     "output_type": "stream",
     "text": [
      "Nhập vào chuỗi: xin chào các bạn, xin chào mọi người, các bạn có khoẻ không, phát\n"
     ]
    },
    {
     "name": "stdout",
     "output_type": "stream",
     "text": [
      "4\n"
     ]
    }
   ],
   "source": [
    "# trong chuỗi chỉ có chữ và chỉ có dấu câu là dấu . và dấu phẩy , và khoảng trắng\n",
    "# đếm ~~> count\n",
    "# xin chào các bạn, xin chào mọi người, các bạn có khoẻ không, bạn.\n",
    "chuoi = input(\"Nhập vào chuỗi:\")\n",
    "chuoi += \" \"\n",
    "ket_qua = chuoi.count(\"n \") + chuoi.count(\"n,\") + chuoi.count(\"n.\")\n",
    "print(ket_qua)"
   ]
  },
  {
   "cell_type": "markdown",
   "id": "53a78d35",
   "metadata": {},
   "source": [
    "### Bài 2\n",
    "\n",
    "Nhập vào một chuỗi, kiểm tra xem chuỗi đó có ký tự hoa hoặc ký tự thường hay không."
   ]
  },
  {
   "cell_type": "code",
   "execution_count": null,
   "id": "f5be8c39",
   "metadata": {},
   "outputs": [],
   "source": []
  },
  {
   "cell_type": "markdown",
   "id": "64ca662e",
   "metadata": {},
   "source": [
    "### Bài 3\n",
    "\n",
    "Nhập vào một chuỗi, kiểm tra tính đối xứng của chuỗi đó"
   ]
  },
  {
   "cell_type": "code",
   "execution_count": 42,
   "id": "749f4136",
   "metadata": {},
   "outputs": [
    {
     "name": "stdin",
     "output_type": "stream",
     "text": [
      "Nhập vào chuỗi: abc\n"
     ]
    },
    {
     "name": "stdout",
     "output_type": "stream",
     "text": [
      "False\n"
     ]
    }
   ],
   "source": [
    "# abcba ~~> abcba\n",
    "# 123321 ~~> 123321\n",
    "# abccba ~~> abccba\n",
    "# abc ~x~> cba\n",
    "# 1 chuỗi có tính đối xưng khi đảo ngược nó lại thì nó vẫn như cũ\n",
    "chuoi = input(\"Nhập vào chuỗi:\")\n",
    "ket_qua = chuoi == chuoi[::-1]\n",
    "print(ket_qua)"
   ]
  },
  {
   "cell_type": "markdown",
   "id": "85dd8fef",
   "metadata": {},
   "source": [
    "### Bài 4\n",
    "\n",
    "Nhập vào một chuỗi, in ra các ký tự trong chuỗi và nếu là ký tự hoa thì in kèm True, ký tự thường thì in kèm False"
   ]
  },
  {
   "cell_type": "code",
   "execution_count": null,
   "id": "0d099247",
   "metadata": {},
   "outputs": [],
   "source": []
  },
  {
   "cell_type": "markdown",
   "id": "1373dc74",
   "metadata": {},
   "source": [
    "### Bài 5\n",
    "\n",
    "Nhập vào một chuỗi, tìm các ký tự chỉ xuất hiện một lần trong chuỗi (nếu xuất hiện 1 lần in true, xuất hiện nhiều lần in false)\n",
    "\n",
    "Ví dụ:\n",
    "\n",
    "Nhập chuỗi: \"ABAbc\"\n",
    "\n",
    "In:\n",
    "\n",
    "A: False\n",
    "\n",
    "B: True\n",
    "\n",
    "A: False\n",
    "\n",
    "b: True\n",
    "\n",
    "c: True"
   ]
  },
  {
   "cell_type": "code",
   "execution_count": null,
   "id": "a93bc53d",
   "metadata": {},
   "outputs": [],
   "source": []
  },
  {
   "cell_type": "markdown",
   "id": "69bebf4c",
   "metadata": {},
   "source": [
    "### Bài 6\n",
    "\n",
    "Nhập vào một chuỗi, kiểm tra trong chuỗi có con số hay không, nếu có in True, không có in False"
   ]
  },
  {
   "cell_type": "code",
   "execution_count": 6,
   "id": "1b4eab4f",
   "metadata": {},
   "outputs": [
    {
     "name": "stdin",
     "output_type": "stream",
     "text": [
      "Nhập vào chuỗi: sakdj232asd\n"
     ]
    },
    {
     "name": "stdout",
     "output_type": "stream",
     "text": [
      "True\n"
     ]
    }
   ],
   "source": [
    "chuoi = input(\"Nhập vào chuỗi:\")\n",
    "\n",
    "a = 0\n",
    "ket_qua = False\n",
    "# trong quá trình duyệt chuỗi với for ~~> nếu phát hiện chuoi[a] là con số ~~> ket_qua = True\n",
    "# để kiểm tra chuoi[a] có phải là con số hay không, ta có thể dùng chuoi[a].isnumeric()\n",
    "\n",
    "for i in range(len(chuoi)):\n",
    "    ket_qua = ket_qua or chuoi[a].isnumeric()\n",
    "    a += 1\n",
    "\n",
    "print(ket_qua)"
   ]
  },
  {
   "cell_type": "code",
   "execution_count": 47,
   "id": "8dc4a67f-e5d1-46f5-807a-9c1fab2a13a3",
   "metadata": {},
   "outputs": [
    {
     "name": "stdin",
     "output_type": "stream",
     "text": [
      "Nhập vào chuỗi: djksajdks@#@#dsdk\n"
     ]
    },
    {
     "name": "stdout",
     "output_type": "stream",
     "text": [
      "True\n"
     ]
    }
   ],
   "source": [
    "chuoi = input(\"Nhập vào chuỗi:\")\n",
    "print(not chuoi.isalpha())"
   ]
  },
  {
   "cell_type": "markdown",
   "id": "1e51403c",
   "metadata": {},
   "source": [
    "### Bài 7\n",
    "\n",
    "Nhập vào một chuỗi, tách những con số có trong chuỗi ra rồi tính tổng của chúng\n",
    "\n",
    "In tổng lên màn hình"
   ]
  },
  {
   "cell_type": "code",
   "execution_count": 13,
   "id": "a34e349d",
   "metadata": {},
   "outputs": [
    {
     "name": "stdin",
     "output_type": "stream",
     "text": [
      "Nhập vào chuỗi: absd2323asd\n"
     ]
    },
    {
     "name": "stdout",
     "output_type": "stream",
     "text": [
      "10\n"
     ]
    }
   ],
   "source": [
    "# chuoi = \"absđe669skfs3jff\" ~~> 6+6+9+3 = 24\n",
    "chuoi = input(\"Nhập vào chuỗi:\")\n",
    "\n",
    "tong = 0\n",
    "a = 0\n",
    "for i in range(len(chuoi)):\n",
    "    tong += chuoi[a].isnumeric() and int(chuoi[a])\n",
    "    a += 1\n",
    "\n",
    "print(tong)"
   ]
  },
  {
   "cell_type": "code",
   "execution_count": 15,
   "id": "423a2e29-3c79-47c1-ba0a-120721724573",
   "metadata": {},
   "outputs": [
    {
     "name": "stdin",
     "output_type": "stream",
     "text": [
      "Nhập vào chuỗi: asd232asd\n"
     ]
    },
    {
     "name": "stdout",
     "output_type": "stream",
     "text": [
      "7\n"
     ]
    }
   ],
   "source": [
    "# chuoi = \"absđe669skfs3jff\" ~~> 6+6+9+3 = 24\n",
    "chuoi = input(\"Nhập vào chuỗi:\")\n",
    "\n",
    "tong = 0\n",
    "a = 0\n",
    "for i in range(len(chuoi)):\n",
    "    if chuoi[a].isnumeric():\n",
    "        tong += int(chuoi[a])\n",
    "    a += 1\n",
    "\n",
    "print(tong)"
   ]
  },
  {
   "cell_type": "code",
   "execution_count": 14,
   "id": "835858f0-1ec2-4480-a516-024f013b48c7",
   "metadata": {},
   "outputs": [
    {
     "name": "stdin",
     "output_type": "stream",
     "text": [
      "Nhập vào chuỗi: asd2asd2s0dsa\n"
     ]
    },
    {
     "name": "stdout",
     "output_type": "stream",
     "text": [
      "4\n"
     ]
    }
   ],
   "source": [
    "chuoi = input(\"Nhập vào chuỗi:\")\n",
    "# asd2asd2s0dsa\n",
    "\n",
    "tong = chuoi.count(\"1\") + chuoi.count(\"2\")*2 + chuoi.count(\"3\")*3 + chuoi.count(\"4\")*4 + chuoi.count(\"5\")*5 + chuoi.count(\"6\")*6 + chuoi.count(\"7\")*7 \\\n",
    "+ chuoi.count(\"8\")*8 + chuoi.count(\"9\")*9\n",
    "\n",
    "print(tong)"
   ]
  },
  {
   "cell_type": "code",
   "execution_count": 10,
   "id": "d0eb422a-bf5c-4c6f-adda-902a8edb9f44",
   "metadata": {},
   "outputs": [
    {
     "name": "stdout",
     "output_type": "stream",
     "text": [
      "3\n"
     ]
    }
   ],
   "source": [
    "a = True*3\n",
    "print(a)"
   ]
  },
  {
   "cell_type": "markdown",
   "id": "e951779d",
   "metadata": {},
   "source": [
    "### Bài 8\n",
    "\n",
    "Nhập vào một chuỗi, đảo ngược chuỗi đã nhập rồi in ra màn hình"
   ]
  },
  {
   "cell_type": "code",
   "execution_count": null,
   "id": "9305f0f1",
   "metadata": {},
   "outputs": [],
   "source": []
  },
  {
   "cell_type": "markdown",
   "id": "04194b5c",
   "metadata": {},
   "source": [
    "### Bài 9\n",
    "\n",
    "Nhập vào một chuỗi, kiểm tra xem mỗi từ trong chuỗi có được viết hoa chữ cái đầu hay không, nếu tất cả đều được viết hoa thì in ra True, còn không thì in ra False\n",
    "\n",
    "Trong trường hợp là False, hãy viết hoa tất cả các chữ cái đầu của mỗi từ rồi in lên màn hình\n",
    "\n",
    "Cách làm thông thường:"
   ]
  },
  {
   "cell_type": "code",
   "execution_count": 8,
   "id": "9f947c7d",
   "metadata": {},
   "outputs": [
    {
     "name": "stdin",
     "output_type": "stream",
     "text": [
      "Nhập vào chuỗi: Abc fsd Asd\n"
     ]
    },
    {
     "name": "stdout",
     "output_type": "stream",
     "text": [
      "False\n"
     ]
    }
   ],
   "source": [
    "chuoi = input(\"Nhập vào chuỗi:\")\n",
    "\n",
    "a = 0\n",
    "ket_qua = chuoi[0].isupper()\n",
    "for i in range(len(chuoi)-1):\n",
    "    ket_qua = ket_qua and (not (chuoi[a] == \" \" and not chuoi[a+1].isupper()))\n",
    "    a += 1\n",
    "print(ket_qua)"
   ]
  },
  {
   "cell_type": "markdown",
   "id": "f43e32af",
   "metadata": {},
   "source": [
    "Cách sử dụng lệnh có sẵn:"
   ]
  },
  {
   "cell_type": "code",
   "execution_count": 10,
   "id": "714f1412",
   "metadata": {},
   "outputs": [
    {
     "name": "stdin",
     "output_type": "stream",
     "text": [
      "Nhập vào chuỗi: Abc Fsd Asd\n"
     ]
    },
    {
     "name": "stdout",
     "output_type": "stream",
     "text": [
      "True\n"
     ]
    }
   ],
   "source": [
    "chuoi = input(\"Nhập vào chuỗi:\")\n",
    "ket_qua = chuoi.istitle()\n",
    "print(ket_qua)"
   ]
  }
 ],
 "metadata": {
  "kernelspec": {
   "display_name": "Python 3 (ipykernel)",
   "language": "python",
   "name": "python3"
  },
  "language_info": {
   "codemirror_mode": {
    "name": "ipython",
    "version": 3
   },
   "file_extension": ".py",
   "mimetype": "text/x-python",
   "name": "python",
   "nbconvert_exporter": "python",
   "pygments_lexer": "ipython3",
   "version": "3.11.7"
  }
 },
 "nbformat": 4,
 "nbformat_minor": 5
}
